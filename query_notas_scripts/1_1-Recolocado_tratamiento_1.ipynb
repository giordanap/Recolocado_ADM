{
 "cells": [
  {
   "cell_type": "markdown",
   "source": [
    "# Calibracion Modelo Recolocado"
   ],
   "metadata": {}
  },
  {
   "cell_type": "code",
   "execution_count": 96,
   "source": [
    "# pip install sklearn.externals"
   ],
   "outputs": [],
   "metadata": {}
  },
  {
   "cell_type": "code",
   "execution_count": 97,
   "source": [
    "# Librerias\r\n",
    "\r\n",
    "import numpy as np # tratamiento de arreglos\r\n",
    "import pandas as pd # tratamiento y carga de dataframes\r\n",
    "import warnings # para ignorar las advertencias innecesarias de pandas\r\n",
    "import matplotlib.pyplot as plt # Graficos y matriz de graficos\r\n",
    "import seaborn as sns # Graficar las distribuciones\r\n",
    "# from sklearn.model_selection import train_test_split # paraticion de la data\r\n",
    "import missingno as msno # analissi de missing\r\n",
    "# from sklearn.impute import SimpleImputer # imputacion simple\r\n",
    "# from sklearn.preprocessing import MinMaxScaler # Estandarizacion\r\n",
    "\r\n",
    "# import imblearn\r\n",
    "# from imblearn.under_sampling import RandomUnderSampler # submuestreo\r\n",
    "# from imblearn.over_sampling import RandomOverSampler # sobremuestreo\r\n",
    "# # Modelos\r\n",
    "# from sklearn.model_selection import GridSearchCV # Tuning de parametros\r\n",
    "# from sklearn.ensemble import RandomForestClassifier # Random Forest\r\n",
    "\r\n",
    "# from sklearn.metrics import roc_auc_score, roc_curve # AUC\r\n",
    "\r\n",
    "# from xgboost import XGBClassifier as xgbc # clasificador\r\n",
    "\r\n",
    "import datetime\r\n",
    "# import sklearn.externals\r\n",
    "# import joblib"
   ],
   "outputs": [],
   "metadata": {}
  },
  {
   "cell_type": "code",
   "execution_count": 98,
   "source": [
    "warnings.filterwarnings('ignore')"
   ],
   "outputs": [],
   "metadata": {}
  },
  {
   "cell_type": "markdown",
   "source": [
    "## Funciones"
   ],
   "metadata": {}
  },
  {
   "cell_type": "code",
   "execution_count": 99,
   "source": [
    "def split_months(df, field):\r\n",
    "    \r\n",
    "    # meses y stocks\r\n",
    "    months = sorted(df[field].value_counts().index)\r\n",
    "    stocks = df[field].value_counts().sort_index().values\r\n",
    "\r\n",
    "    # total de clientes\r\n",
    "    total = sum(stocks)\r\n",
    "    # porcentaje acumulado del primer mes\r\n",
    "    perc_cum = [stocks[0]/total]\r\n",
    "\r\n",
    "    # Construccion del vector porcentajes acumulados\r\n",
    "    for i in range( 1, len(months) ):\r\n",
    "        perc_cum.append(perc_cum[i-1] + stocks[i]/total) \r\n",
    "\r\n",
    "    # mes donde el porcentaje supera por primera vez el 70%\r\n",
    "    month = months[ len( list( filter(lambda x: x <= .7, perc_cum) ) ) ]\r\n",
    "\r\n",
    "    return month\r\n",
    "\r\n",
    "def matrix_null(df):\r\n",
    "    \r\n",
    "    df_null = pd.DataFrame(df.isnull().sum(), columns=['frecuency'])\r\n",
    "    df_null['perc_null'] = round(df_null['frecuency']/ df.shape[0], 4)\r\n",
    "\r\n",
    "    return df_null\r\n",
    "\r\n",
    "# def limites_inf_sup(df, var):\r\n",
    "\r\n",
    "#     v_li = []\r\n",
    "#     v_ls = []\r\n",
    "\r\n",
    "#     for i in var:\r\n",
    "\r\n",
    "#         vector = df[i]\r\n",
    "\r\n",
    "#         p_0 = np.percentile(vector, 0)\r\n",
    "#         p_1 = np.percentile(vector, 1)\r\n",
    "#         p_99 = np.percentile(vector, 99)\r\n",
    "#         p_100 = np.percentile(vector, 100)\r\n",
    "\r\n",
    "#         if p_0 == 0: li = 0\r\n",
    "#         else:\r\n",
    "#             if (p_1 >= (2 * p_0)): li = p_1\r\n",
    "#             else: li = p_0\r\n",
    "\r\n",
    "#         if (p_100 >= (2 * p_99)): ls = p_99\r\n",
    "#         else: ls = p_100\r\n",
    "\r\n",
    "#         v_li.append(li)\r\n",
    "#         v_ls.append(ls)\r\n",
    "\r\n",
    "#     return pd.DataFrame([v_li, v_ls], index=['li','ls'], columns=var)\r\n",
    "\r\n",
    "# # Dibuja la curva ROC\r\n",
    "# def plot_roc_curve(y, y_proba, label = ''):\r\n",
    "#     '''\r\n",
    "#     dibujar la curva roc para las probabilidades y target entregados\r\n",
    "    \r\n",
    "#     params:\r\n",
    "#     y: etiquetas originales\r\n",
    "#     y_proba: probabilidades resultado del modelo\r\n",
    "#     '''\r\n",
    "    \r\n",
    "#     auc_roc = roc_auc_score(y, y_proba)\r\n",
    "#     fpr, tpr, thresholds = roc_curve(y, y_proba)\r\n",
    "    \r\n",
    "#     plt.figure(figsize=(8,6))\r\n",
    "#     plt.rcParams.update({'font.size': 12})\r\n",
    "#     plt.plot(fpr, fpr, c = 'red')\r\n",
    "#     plt.plot(fpr, tpr, label= (f\"Curva ROC {label} (AUC = {auc_roc:.4f})\"))\r\n",
    "#     plt.xlabel(\"FPR\")\r\n",
    "#     plt.ylabel(\"TPR\")\r\n",
    "#     plt.title(f\"Curva ROC {label}\")\r\n",
    "#     plt.legend(loc=4, numpoints=1)"
   ],
   "outputs": [],
   "metadata": {}
  },
  {
   "cell_type": "code",
   "execution_count": 100,
   "source": [
    "v_pd = pd.__version__\r\n",
    "v_sns = sns.__version__\r\n",
    "v_msno = msno.__version__\r\n",
    "# v_skln = sklearn.__version__\r\n",
    "# v_ibln = imblearn.__version__"
   ],
   "outputs": [],
   "metadata": {}
  },
  {
   "cell_type": "code",
   "execution_count": 101,
   "source": [
    "# libraries = ['pandas', 'seaborn', 'missingno', 'sklearn', 'imblearn']\r\n",
    "# versions = [v_pd, v_sns, v_msno, v_skln, v_ibln]\r\n",
    "libraries = ['pandas', 'seaborn', 'missingno']\r\n",
    "versions = [v_pd, v_sns, v_msno]\r\n",
    "\r\n",
    "for i, j in zip(libraries, versions):\r\n",
    "    print(f\"{i} con version {j}\")\r\n"
   ],
   "outputs": [
    {
     "output_type": "stream",
     "name": "stdout",
     "text": [
      "pandas con version 1.1.5\n",
      "seaborn con version 0.11.1\n",
      "missingno con version 0.5.0\n"
     ]
    }
   ],
   "metadata": {}
  },
  {
   "cell_type": "code",
   "execution_count": 102,
   "source": [
    "seed = 314159"
   ],
   "outputs": [],
   "metadata": {}
  },
  {
   "cell_type": "code",
   "execution_count": 103,
   "source": [
    "base = pd.read_csv('../bases/construccion/base_axes_sinRepros_final_3.csv', sep=',')"
   ],
   "outputs": [],
   "metadata": {}
  },
  {
   "cell_type": "code",
   "execution_count": 104,
   "source": [
    "base.shape"
   ],
   "outputs": [
    {
     "output_type": "execute_result",
     "data": {
      "text/plain": [
       "(6781, 339)"
      ]
     },
     "metadata": {},
     "execution_count": 104
    }
   ],
   "metadata": {}
  },
  {
   "cell_type": "code",
   "execution_count": 105,
   "source": [
    "filtro_ind_insf = (base['indeterminado'] + base['insuficiente']) == 0\r\n",
    "# filtro_repros_1 = (base['cosecha'] >= 202003) & (base['cosecha'] <= 202007) # fechas de repros por covid\r\n",
    "# filtro_repros_2 = (base['cosecha'] >= 201904) & (base['cosecha'] <= 202002) # Sospechas de ser afectado por repros por covid\r\n",
    "# filtro_repros_3 = (base['cosecha'] >= 202008) # Sin performance\r\n",
    "# filtro_repros_4 = (base['cosecha'] >= 201811) # Sospechas de ser afectado por repros por covid\r\n",
    "\r\n",
    "# Analisis con y sin repro\r\n",
    "filtro_repros_5 = (base['cosecha'] > 201908) # Axes sin Repro"
   ],
   "outputs": [],
   "metadata": {}
  },
  {
   "cell_type": "code",
   "execution_count": 106,
   "source": [
    "# recolocado = base[filtro_ind_insf & ~ filtro_repros_1 & ~ filtro_repros_2 & ~ filtro_repros_3 & ~ filtro_repros_4]\r\n",
    "recolocado = base[filtro_ind_insf & ~ filtro_repros_5]"
   ],
   "outputs": [],
   "metadata": {}
  },
  {
   "cell_type": "code",
   "execution_count": 107,
   "source": [
    "recolocado.head(2)"
   ],
   "outputs": [
    {
     "output_type": "execute_result",
     "data": {
      "text/html": [
       "<div>\n",
       "<style scoped>\n",
       "    .dataframe tbody tr th:only-of-type {\n",
       "        vertical-align: middle;\n",
       "    }\n",
       "\n",
       "    .dataframe tbody tr th {\n",
       "        vertical-align: top;\n",
       "    }\n",
       "\n",
       "    .dataframe thead th {\n",
       "        text-align: right;\n",
       "    }\n",
       "</style>\n",
       "<table border=\"1\" class=\"dataframe\">\n",
       "  <thead>\n",
       "    <tr style=\"text-align: right;\">\n",
       "      <th></th>\n",
       "      <th>cosecha</th>\n",
       "      <th>activacion</th>\n",
       "      <th>cv</th>\n",
       "      <th>co</th>\n",
       "      <th>expediente</th>\n",
       "      <th>producto</th>\n",
       "      <th>malo</th>\n",
       "      <th>indeterminado</th>\n",
       "      <th>insuficiente</th>\n",
       "      <th>edad</th>\n",
       "      <th>...</th>\n",
       "      <th>linea_activa_max1m6_max7m12</th>\n",
       "      <th>por_uso_linea_1m_max2m12</th>\n",
       "      <th>por_uso_linea_max1m3_max4m12</th>\n",
       "      <th>por_uso_linea_max1m6_max7m12</th>\n",
       "      <th>por_uso_efectivo_1m_max2m12</th>\n",
       "      <th>por_uso_efectivo_max1m3_max4m12</th>\n",
       "      <th>por_uso_efectivo_max1m6_max7m12</th>\n",
       "      <th>por_me_1m_max2m12</th>\n",
       "      <th>por_me_max1m3_max4m12</th>\n",
       "      <th>por_me_max1m6_max7m12</th>\n",
       "    </tr>\n",
       "  </thead>\n",
       "  <tbody>\n",
       "    <tr>\n",
       "      <th>0</th>\n",
       "      <td>201301</td>\n",
       "      <td>2013-01-09</td>\n",
       "      <td>B8709001</td>\n",
       "      <td>B8709001</td>\n",
       "      <td>25392208</td>\n",
       "      <td>Recolocado</td>\n",
       "      <td>0</td>\n",
       "      <td>0</td>\n",
       "      <td>0</td>\n",
       "      <td>49</td>\n",
       "      <td>...</td>\n",
       "      <td>Menor linea_activa</td>\n",
       "      <td>Cero por_uso_linea</td>\n",
       "      <td>Cero por_uso_linea</td>\n",
       "      <td>Cero por_uso_linea</td>\n",
       "      <td>Cero por_uso_efectivo</td>\n",
       "      <td>Cero por_uso_efectivo</td>\n",
       "      <td>Cero por_uso_efectivo</td>\n",
       "      <td>Cero por_me</td>\n",
       "      <td>Cero por_me</td>\n",
       "      <td>Cero por_me</td>\n",
       "    </tr>\n",
       "    <tr>\n",
       "      <th>1</th>\n",
       "      <td>201301</td>\n",
       "      <td>2013-01-16</td>\n",
       "      <td>B8798001</td>\n",
       "      <td>B8798001</td>\n",
       "      <td>25397942</td>\n",
       "      <td>Recolocado</td>\n",
       "      <td>0</td>\n",
       "      <td>0</td>\n",
       "      <td>0</td>\n",
       "      <td>36</td>\n",
       "      <td>...</td>\n",
       "      <td>Cero linea_activa</td>\n",
       "      <td>Cero por_uso_linea</td>\n",
       "      <td>Cero por_uso_linea</td>\n",
       "      <td>Cero por_uso_linea</td>\n",
       "      <td>Cero por_uso_efectivo</td>\n",
       "      <td>Cero por_uso_efectivo</td>\n",
       "      <td>Cero por_uso_efectivo</td>\n",
       "      <td>Cero por_me</td>\n",
       "      <td>Cero por_me</td>\n",
       "      <td>Cero por_me</td>\n",
       "    </tr>\n",
       "  </tbody>\n",
       "</table>\n",
       "<p>2 rows × 339 columns</p>\n",
       "</div>"
      ],
      "text/plain": [
       "   cosecha  activacion        cv        co  expediente    producto  malo  \\\n",
       "0   201301  2013-01-09  B8709001  B8709001    25392208  Recolocado     0   \n",
       "1   201301  2013-01-16  B8798001  B8798001    25397942  Recolocado     0   \n",
       "\n",
       "   indeterminado  insuficiente  edad  ... linea_activa_max1m6_max7m12  \\\n",
       "0              0             0    49  ...          Menor linea_activa   \n",
       "1              0             0    36  ...           Cero linea_activa   \n",
       "\n",
       "  por_uso_linea_1m_max2m12 por_uso_linea_max1m3_max4m12  \\\n",
       "0       Cero por_uso_linea           Cero por_uso_linea   \n",
       "1       Cero por_uso_linea           Cero por_uso_linea   \n",
       "\n",
       "  por_uso_linea_max1m6_max7m12  por_uso_efectivo_1m_max2m12  \\\n",
       "0           Cero por_uso_linea        Cero por_uso_efectivo   \n",
       "1           Cero por_uso_linea        Cero por_uso_efectivo   \n",
       "\n",
       "   por_uso_efectivo_max1m3_max4m12  por_uso_efectivo_max1m6_max7m12  \\\n",
       "0            Cero por_uso_efectivo            Cero por_uso_efectivo   \n",
       "1            Cero por_uso_efectivo            Cero por_uso_efectivo   \n",
       "\n",
       "   por_me_1m_max2m12  por_me_max1m3_max4m12 por_me_max1m6_max7m12  \n",
       "0        Cero por_me            Cero por_me           Cero por_me  \n",
       "1        Cero por_me            Cero por_me           Cero por_me  \n",
       "\n",
       "[2 rows x 339 columns]"
      ]
     },
     "metadata": {},
     "execution_count": 107
    }
   ],
   "metadata": {}
  },
  {
   "cell_type": "code",
   "execution_count": 108,
   "source": [
    "recolocado.shape"
   ],
   "outputs": [
    {
     "output_type": "execute_result",
     "data": {
      "text/plain": [
       "(4357, 339)"
      ]
     },
     "metadata": {},
     "execution_count": 108
    }
   ],
   "metadata": {}
  },
  {
   "cell_type": "markdown",
   "source": [
    "## Mes del train"
   ],
   "metadata": {}
  },
  {
   "cell_type": "code",
   "execution_count": 109,
   "source": [
    "print( f\"La cosecha { split_months(recolocado, 'cosecha') } contiene al Train\" )"
   ],
   "outputs": [
    {
     "output_type": "stream",
     "name": "stdout",
     "text": [
      "La cosecha 201806 contiene al Train\n"
     ]
    }
   ],
   "metadata": {}
  },
  {
   "cell_type": "code",
   "execution_count": 110,
   "source": [
    "train_count = recolocado[recolocado['cosecha'] <= 201806]['cosecha'].count()\r\n",
    "test_count = recolocado[recolocado['cosecha'] > 201806]['cosecha'].count()\r\n",
    "train_tm = recolocado[recolocado['cosecha'] <= 201806]['malo'].mean()\r\n",
    "test_tm = recolocado[recolocado['cosecha'] > 201806]['malo'].mean()"
   ],
   "outputs": [],
   "metadata": {}
  },
  {
   "cell_type": "code",
   "execution_count": 111,
   "source": [
    "print(f\"Porcentaje del Train: { round(train_count * 100/ recolocado['cosecha'].count(), 2) }% ({train_count}), con tasa de Malos: {round(train_tm*100, 2)}%\")"
   ],
   "outputs": [
    {
     "output_type": "stream",
     "name": "stdout",
     "text": [
      "Porcentaje del Train: 71.59% (3119), con tasa de Malos: 25.62%\n"
     ]
    }
   ],
   "metadata": {}
  },
  {
   "cell_type": "code",
   "execution_count": 112,
   "source": [
    "print(f\"Porcentaje del Test: { round(test_count * 100/ recolocado['cosecha'].count(), 2) }% ({test_count}), con tasa de Malos: {round(test_tm*100, 2)}%\")"
   ],
   "outputs": [
    {
     "output_type": "stream",
     "name": "stdout",
     "text": [
      "Porcentaje del Test: 28.41% (1238), con tasa de Malos: 22.46%\n"
     ]
    }
   ],
   "metadata": {}
  },
  {
   "cell_type": "code",
   "execution_count": 113,
   "source": [
    "eje = ['cosecha', 'activacion', 'cv', 'co', 'expediente', 'producto', 'indeterminado', 'insuficiente']\r\n",
    "demo = ['edad', 'educacion', 'estado_civil', 'vivienda', 'perfil', 'carga_fam', 'ingreso']\r\n",
    "inter = ['antiguedad', 'cuotas_pend', 'cuotas_canc', 'saldo_cap', 'saldo_int', 'saldo_mora', 'provision', \r\n",
    "    'garpref', 'cap_vig', 'cap_ref', 'cap_ven', 'cap_jud', 'mora_prom1m6', 'mora', 'calificacion_conalin',\r\n",
    "    'calificacion_sinalin', 'sobreend', 'riesgocc', 'refin', 'refinanciacion', 'im_pagcof', 'carga_gnv',\r\n",
    "    'nro_carga_gnv', 'cv_carga_gnv', 'relacion_im_pagcof_cuota', 'relacion_carga_gnv_cuota']\r\n",
    "rcc = recolocado.drop(eje + demo + inter + ['malo'], axis = 1).columns.to_list()\r\n",
    "target = ['malo']"
   ],
   "outputs": [],
   "metadata": {}
  },
  {
   "cell_type": "code",
   "execution_count": 114,
   "source": [
    "recolocado[eje + demo + inter + rcc + target].head(2)"
   ],
   "outputs": [
    {
     "output_type": "execute_result",
     "data": {
      "text/html": [
       "<div>\n",
       "<style scoped>\n",
       "    .dataframe tbody tr th:only-of-type {\n",
       "        vertical-align: middle;\n",
       "    }\n",
       "\n",
       "    .dataframe tbody tr th {\n",
       "        vertical-align: top;\n",
       "    }\n",
       "\n",
       "    .dataframe thead th {\n",
       "        text-align: right;\n",
       "    }\n",
       "</style>\n",
       "<table border=\"1\" class=\"dataframe\">\n",
       "  <thead>\n",
       "    <tr style=\"text-align: right;\">\n",
       "      <th></th>\n",
       "      <th>cosecha</th>\n",
       "      <th>activacion</th>\n",
       "      <th>cv</th>\n",
       "      <th>co</th>\n",
       "      <th>expediente</th>\n",
       "      <th>producto</th>\n",
       "      <th>indeterminado</th>\n",
       "      <th>insuficiente</th>\n",
       "      <th>edad</th>\n",
       "      <th>educacion</th>\n",
       "      <th>...</th>\n",
       "      <th>por_uso_linea_1m_max2m12</th>\n",
       "      <th>por_uso_linea_max1m3_max4m12</th>\n",
       "      <th>por_uso_linea_max1m6_max7m12</th>\n",
       "      <th>por_uso_efectivo_1m_max2m12</th>\n",
       "      <th>por_uso_efectivo_max1m3_max4m12</th>\n",
       "      <th>por_uso_efectivo_max1m6_max7m12</th>\n",
       "      <th>por_me_1m_max2m12</th>\n",
       "      <th>por_me_max1m3_max4m12</th>\n",
       "      <th>por_me_max1m6_max7m12</th>\n",
       "      <th>malo</th>\n",
       "    </tr>\n",
       "  </thead>\n",
       "  <tbody>\n",
       "    <tr>\n",
       "      <th>0</th>\n",
       "      <td>201301</td>\n",
       "      <td>2013-01-09</td>\n",
       "      <td>B8709001</td>\n",
       "      <td>B8709001</td>\n",
       "      <td>25392208</td>\n",
       "      <td>Recolocado</td>\n",
       "      <td>0</td>\n",
       "      <td>0</td>\n",
       "      <td>49</td>\n",
       "      <td>Secundaria completa</td>\n",
       "      <td>...</td>\n",
       "      <td>Cero por_uso_linea</td>\n",
       "      <td>Cero por_uso_linea</td>\n",
       "      <td>Cero por_uso_linea</td>\n",
       "      <td>Cero por_uso_efectivo</td>\n",
       "      <td>Cero por_uso_efectivo</td>\n",
       "      <td>Cero por_uso_efectivo</td>\n",
       "      <td>Cero por_me</td>\n",
       "      <td>Cero por_me</td>\n",
       "      <td>Cero por_me</td>\n",
       "      <td>0</td>\n",
       "    </tr>\n",
       "    <tr>\n",
       "      <th>1</th>\n",
       "      <td>201301</td>\n",
       "      <td>2013-01-16</td>\n",
       "      <td>B8798001</td>\n",
       "      <td>B8798001</td>\n",
       "      <td>25397942</td>\n",
       "      <td>Recolocado</td>\n",
       "      <td>0</td>\n",
       "      <td>0</td>\n",
       "      <td>36</td>\n",
       "      <td>Secundaria completa</td>\n",
       "      <td>...</td>\n",
       "      <td>Cero por_uso_linea</td>\n",
       "      <td>Cero por_uso_linea</td>\n",
       "      <td>Cero por_uso_linea</td>\n",
       "      <td>Cero por_uso_efectivo</td>\n",
       "      <td>Cero por_uso_efectivo</td>\n",
       "      <td>Cero por_uso_efectivo</td>\n",
       "      <td>Cero por_me</td>\n",
       "      <td>Cero por_me</td>\n",
       "      <td>Cero por_me</td>\n",
       "      <td>0</td>\n",
       "    </tr>\n",
       "  </tbody>\n",
       "</table>\n",
       "<p>2 rows × 339 columns</p>\n",
       "</div>"
      ],
      "text/plain": [
       "   cosecha  activacion        cv        co  expediente    producto  \\\n",
       "0   201301  2013-01-09  B8709001  B8709001    25392208  Recolocado   \n",
       "1   201301  2013-01-16  B8798001  B8798001    25397942  Recolocado   \n",
       "\n",
       "   indeterminado  insuficiente  edad            educacion  ...  \\\n",
       "0              0             0    49  Secundaria completa  ...   \n",
       "1              0             0    36  Secundaria completa  ...   \n",
       "\n",
       "  por_uso_linea_1m_max2m12 por_uso_linea_max1m3_max4m12  \\\n",
       "0       Cero por_uso_linea           Cero por_uso_linea   \n",
       "1       Cero por_uso_linea           Cero por_uso_linea   \n",
       "\n",
       "  por_uso_linea_max1m6_max7m12  por_uso_efectivo_1m_max2m12  \\\n",
       "0           Cero por_uso_linea        Cero por_uso_efectivo   \n",
       "1           Cero por_uso_linea        Cero por_uso_efectivo   \n",
       "\n",
       "   por_uso_efectivo_max1m3_max4m12  por_uso_efectivo_max1m6_max7m12  \\\n",
       "0            Cero por_uso_efectivo            Cero por_uso_efectivo   \n",
       "1            Cero por_uso_efectivo            Cero por_uso_efectivo   \n",
       "\n",
       "   por_me_1m_max2m12  por_me_max1m3_max4m12  por_me_max1m6_max7m12  malo  \n",
       "0        Cero por_me            Cero por_me            Cero por_me     0  \n",
       "1        Cero por_me            Cero por_me            Cero por_me     0  \n",
       "\n",
       "[2 rows x 339 columns]"
      ]
     },
     "metadata": {},
     "execution_count": 114
    }
   ],
   "metadata": {}
  },
  {
   "cell_type": "code",
   "execution_count": 115,
   "source": [
    "X = recolocado.drop(eje + target, axis = 1)\r\n",
    "y = recolocado[target]"
   ],
   "outputs": [],
   "metadata": {}
  },
  {
   "cell_type": "code",
   "execution_count": 116,
   "source": [
    "X.head(2)"
   ],
   "outputs": [
    {
     "output_type": "execute_result",
     "data": {
      "text/html": [
       "<div>\n",
       "<style scoped>\n",
       "    .dataframe tbody tr th:only-of-type {\n",
       "        vertical-align: middle;\n",
       "    }\n",
       "\n",
       "    .dataframe tbody tr th {\n",
       "        vertical-align: top;\n",
       "    }\n",
       "\n",
       "    .dataframe thead th {\n",
       "        text-align: right;\n",
       "    }\n",
       "</style>\n",
       "<table border=\"1\" class=\"dataframe\">\n",
       "  <thead>\n",
       "    <tr style=\"text-align: right;\">\n",
       "      <th></th>\n",
       "      <th>edad</th>\n",
       "      <th>educacion</th>\n",
       "      <th>estado_civil</th>\n",
       "      <th>vivienda</th>\n",
       "      <th>perfil</th>\n",
       "      <th>carga_fam</th>\n",
       "      <th>ingreso</th>\n",
       "      <th>maf</th>\n",
       "      <th>ci</th>\n",
       "      <th>cuota</th>\n",
       "      <th>...</th>\n",
       "      <th>linea_activa_max1m6_max7m12</th>\n",
       "      <th>por_uso_linea_1m_max2m12</th>\n",
       "      <th>por_uso_linea_max1m3_max4m12</th>\n",
       "      <th>por_uso_linea_max1m6_max7m12</th>\n",
       "      <th>por_uso_efectivo_1m_max2m12</th>\n",
       "      <th>por_uso_efectivo_max1m3_max4m12</th>\n",
       "      <th>por_uso_efectivo_max1m6_max7m12</th>\n",
       "      <th>por_me_1m_max2m12</th>\n",
       "      <th>por_me_max1m3_max4m12</th>\n",
       "      <th>por_me_max1m6_max7m12</th>\n",
       "    </tr>\n",
       "  </thead>\n",
       "  <tbody>\n",
       "    <tr>\n",
       "      <th>0</th>\n",
       "      <td>49</td>\n",
       "      <td>Secundaria completa</td>\n",
       "      <td>Conviviente</td>\n",
       "      <td>ALQUILADO</td>\n",
       "      <td>Independiente - Informal</td>\n",
       "      <td>0.0</td>\n",
       "      <td>NaN</td>\n",
       "      <td>NaN</td>\n",
       "      <td>NaN</td>\n",
       "      <td>NaN</td>\n",
       "      <td>...</td>\n",
       "      <td>Menor linea_activa</td>\n",
       "      <td>Cero por_uso_linea</td>\n",
       "      <td>Cero por_uso_linea</td>\n",
       "      <td>Cero por_uso_linea</td>\n",
       "      <td>Cero por_uso_efectivo</td>\n",
       "      <td>Cero por_uso_efectivo</td>\n",
       "      <td>Cero por_uso_efectivo</td>\n",
       "      <td>Cero por_me</td>\n",
       "      <td>Cero por_me</td>\n",
       "      <td>Cero por_me</td>\n",
       "    </tr>\n",
       "    <tr>\n",
       "      <th>1</th>\n",
       "      <td>36</td>\n",
       "      <td>Secundaria completa</td>\n",
       "      <td>Casado</td>\n",
       "      <td>FAMILIAR</td>\n",
       "      <td>Independiente - Formal</td>\n",
       "      <td>3.0</td>\n",
       "      <td>NaN</td>\n",
       "      <td>NaN</td>\n",
       "      <td>NaN</td>\n",
       "      <td>NaN</td>\n",
       "      <td>...</td>\n",
       "      <td>Cero linea_activa</td>\n",
       "      <td>Cero por_uso_linea</td>\n",
       "      <td>Cero por_uso_linea</td>\n",
       "      <td>Cero por_uso_linea</td>\n",
       "      <td>Cero por_uso_efectivo</td>\n",
       "      <td>Cero por_uso_efectivo</td>\n",
       "      <td>Cero por_uso_efectivo</td>\n",
       "      <td>Cero por_me</td>\n",
       "      <td>Cero por_me</td>\n",
       "      <td>Cero por_me</td>\n",
       "    </tr>\n",
       "  </tbody>\n",
       "</table>\n",
       "<p>2 rows × 330 columns</p>\n",
       "</div>"
      ],
      "text/plain": [
       "   edad            educacion estado_civil   vivienda  \\\n",
       "0    49  Secundaria completa  Conviviente  ALQUILADO   \n",
       "1    36  Secundaria completa       Casado   FAMILIAR   \n",
       "\n",
       "                     perfil  carga_fam  ingreso  maf  ci  cuota  ...  \\\n",
       "0  Independiente - Informal        0.0      NaN  NaN NaN    NaN  ...   \n",
       "1    Independiente - Formal        3.0      NaN  NaN NaN    NaN  ...   \n",
       "\n",
       "  linea_activa_max1m6_max7m12  por_uso_linea_1m_max2m12  \\\n",
       "0          Menor linea_activa        Cero por_uso_linea   \n",
       "1           Cero linea_activa        Cero por_uso_linea   \n",
       "\n",
       "   por_uso_linea_max1m3_max4m12  por_uso_linea_max1m6_max7m12  \\\n",
       "0            Cero por_uso_linea            Cero por_uso_linea   \n",
       "1            Cero por_uso_linea            Cero por_uso_linea   \n",
       "\n",
       "   por_uso_efectivo_1m_max2m12  por_uso_efectivo_max1m3_max4m12  \\\n",
       "0        Cero por_uso_efectivo            Cero por_uso_efectivo   \n",
       "1        Cero por_uso_efectivo            Cero por_uso_efectivo   \n",
       "\n",
       "   por_uso_efectivo_max1m6_max7m12  por_me_1m_max2m12  por_me_max1m3_max4m12  \\\n",
       "0            Cero por_uso_efectivo        Cero por_me            Cero por_me   \n",
       "1            Cero por_uso_efectivo        Cero por_me            Cero por_me   \n",
       "\n",
       "   por_me_max1m6_max7m12  \n",
       "0            Cero por_me  \n",
       "1            Cero por_me  \n",
       "\n",
       "[2 rows x 330 columns]"
      ]
     },
     "metadata": {},
     "execution_count": 116
    }
   ],
   "metadata": {}
  },
  {
   "cell_type": "code",
   "execution_count": 117,
   "source": [
    "y.mean()"
   ],
   "outputs": [
    {
     "output_type": "execute_result",
     "data": {
      "text/plain": [
       "malo    0.247188\n",
       "dtype: float64"
      ]
     },
     "metadata": {},
     "execution_count": 117
    }
   ],
   "metadata": {}
  },
  {
   "cell_type": "markdown",
   "source": [
    "## División en train y test"
   ],
   "metadata": {}
  },
  {
   "cell_type": "code",
   "execution_count": 118,
   "source": [
    "filtro_division = recolocado['cosecha'] <= 201806"
   ],
   "outputs": [],
   "metadata": {}
  },
  {
   "cell_type": "code",
   "execution_count": 119,
   "source": [
    "# X_train, X_test, y_train, y_test = train_test_split(X, y, test_size=0.2, random_state = seed, stratify = y)\r\n",
    "X_train = recolocado[filtro_division].drop(eje + target, axis = 1)\r\n",
    "X_test = recolocado[~ filtro_division].drop(eje + target, axis = 1)\r\n",
    "y_train = recolocado[filtro_division][target]\r\n",
    "y_test = recolocado[~ filtro_division][target]"
   ],
   "outputs": [],
   "metadata": {}
  },
  {
   "cell_type": "code",
   "execution_count": 120,
   "source": [
    "train_plot = pd.DataFrame(recolocado[filtro_division][['cosecha','malo']])\r\n",
    "frec_train = train_plot.groupby(['cosecha'])['cosecha'].count()\r\n",
    "tm_train = train_plot.groupby(['cosecha'])['malo'].mean()\r\n",
    "train_plot = pd.concat([frec_train, tm_train], axis = 1).sort_index()\r\n",
    "train_plot['fecha'] = train_plot.index.values\r\n",
    "train_plot.columns = ['frec_train', 'tm_train', 'cosecha']\r\n",
    "\r\n",
    "test_plot = pd.DataFrame(recolocado[~ filtro_division][['cosecha','malo']])\r\n",
    "frec_test = test_plot.groupby(['cosecha'])['cosecha'].count()\r\n",
    "tm_test = test_plot.groupby(['cosecha'])['malo'].mean()\r\n",
    "test_plot = pd.concat([frec_test, tm_test], axis = 1).sort_index()\r\n",
    "test_plot['fecha'] = test_plot.index.values\r\n",
    "test_plot.columns = ['frec_test', 'tm_test', 'cosecha']\r\n",
    "\r\n",
    "df_plot = pd.concat([train_plot[['frec_train','tm_train']], test_plot[['frec_test','tm_test']]], axis = 1)\r\n",
    "\r\n",
    "df_plot['fecha'] = [datetime.datetime.strptime(str(i), \"%Y%m\").strftime(\"%Y-%b\") for i in df_plot.index.values]\r\n",
    "\r\n",
    "print(df_plot)"
   ],
   "outputs": [
    {
     "output_type": "stream",
     "name": "stdout",
     "text": [
      "         frec_train  tm_train  frec_test   tm_test     fecha\n",
      "cosecha                                                     \n",
      "201301          9.0  0.111111        NaN       NaN  2013-Jan\n",
      "201302          8.0  0.125000        NaN       NaN  2013-Feb\n",
      "201303          5.0  0.400000        NaN       NaN  2013-Mar\n",
      "201304         11.0  0.181818        NaN       NaN  2013-Apr\n",
      "201305          8.0  0.375000        NaN       NaN  2013-May\n",
      "...             ...       ...        ...       ...       ...\n",
      "201904          NaN       NaN       90.0  0.222222  2019-Apr\n",
      "201905          NaN       NaN       98.0  0.234694  2019-May\n",
      "201906          NaN       NaN       91.0  0.197802  2019-Jun\n",
      "201907          NaN       NaN      105.0  0.228571  2019-Jul\n",
      "201908          NaN       NaN      117.0  0.196581  2019-Aug\n",
      "\n",
      "[80 rows x 5 columns]\n"
     ]
    }
   ],
   "metadata": {}
  },
  {
   "cell_type": "code",
   "execution_count": 121,
   "source": [
    "fig, ax = plt.subplots(figsize=(20,7.5))\r\n",
    "ax2 = ax.twinx()\r\n",
    "df_plot.plot.bar(x = 'fecha', y = 'frec_train', ax = ax, color = 'orange')\r\n",
    "df_plot.plot(x = 'fecha', y = 'tm_train', ax = ax2, color = 'black')\r\n",
    "df_plot.plot.bar(x = 'fecha', y = 'frec_test', ax = ax, color = 'skyblue')\r\n",
    "df_plot.plot(x = 'fecha', y = 'tm_test', ax = ax2, color = 'brown')\r\n",
    "plt.show()"
   ],
   "outputs": [
    {
     "output_type": "display_data",
     "data": {
      "image/png": "[encoded data removed]",
      "text/plain": [
       "<Figure size 1440x540 with 2 Axes>"
      ]
     },
     "metadata": {
      "needs_background": "light"
     }
    }
   ],
   "metadata": {}
  },
  {
   "cell_type": "code",
   "execution_count": 122,
   "source": [
    "X_train.shape, X_test.shape, y_train.shape, y_test.shape"
   ],
   "outputs": [
    {
     "output_type": "execute_result",
     "data": {
      "text/plain": [
       "((3119, 330), (1238, 330), (3119, 1), (1238, 1))"
      ]
     },
     "metadata": {},
     "execution_count": 122
    }
   ],
   "metadata": {}
  },
  {
   "cell_type": "code",
   "execution_count": 123,
   "source": [
    "X_train.head(2)"
   ],
   "outputs": [
    {
     "output_type": "execute_result",
     "data": {
      "text/html": [
       "<div>\n",
       "<style scoped>\n",
       "    .dataframe tbody tr th:only-of-type {\n",
       "        vertical-align: middle;\n",
       "    }\n",
       "\n",
       "    .dataframe tbody tr th {\n",
       "        vertical-align: top;\n",
       "    }\n",
       "\n",
       "    .dataframe thead th {\n",
       "        text-align: right;\n",
       "    }\n",
       "</style>\n",
       "<table border=\"1\" class=\"dataframe\">\n",
       "  <thead>\n",
       "    <tr style=\"text-align: right;\">\n",
       "      <th></th>\n",
       "      <th>edad</th>\n",
       "      <th>educacion</th>\n",
       "      <th>estado_civil</th>\n",
       "      <th>vivienda</th>\n",
       "      <th>perfil</th>\n",
       "      <th>carga_fam</th>\n",
       "      <th>ingreso</th>\n",
       "      <th>maf</th>\n",
       "      <th>ci</th>\n",
       "      <th>cuota</th>\n",
       "      <th>...</th>\n",
       "      <th>linea_activa_max1m6_max7m12</th>\n",
       "      <th>por_uso_linea_1m_max2m12</th>\n",
       "      <th>por_uso_linea_max1m3_max4m12</th>\n",
       "      <th>por_uso_linea_max1m6_max7m12</th>\n",
       "      <th>por_uso_efectivo_1m_max2m12</th>\n",
       "      <th>por_uso_efectivo_max1m3_max4m12</th>\n",
       "      <th>por_uso_efectivo_max1m6_max7m12</th>\n",
       "      <th>por_me_1m_max2m12</th>\n",
       "      <th>por_me_max1m3_max4m12</th>\n",
       "      <th>por_me_max1m6_max7m12</th>\n",
       "    </tr>\n",
       "  </thead>\n",
       "  <tbody>\n",
       "    <tr>\n",
       "      <th>0</th>\n",
       "      <td>49</td>\n",
       "      <td>Secundaria completa</td>\n",
       "      <td>Conviviente</td>\n",
       "      <td>ALQUILADO</td>\n",
       "      <td>Independiente - Informal</td>\n",
       "      <td>0.0</td>\n",
       "      <td>NaN</td>\n",
       "      <td>NaN</td>\n",
       "      <td>NaN</td>\n",
       "      <td>NaN</td>\n",
       "      <td>...</td>\n",
       "      <td>Menor linea_activa</td>\n",
       "      <td>Cero por_uso_linea</td>\n",
       "      <td>Cero por_uso_linea</td>\n",
       "      <td>Cero por_uso_linea</td>\n",
       "      <td>Cero por_uso_efectivo</td>\n",
       "      <td>Cero por_uso_efectivo</td>\n",
       "      <td>Cero por_uso_efectivo</td>\n",
       "      <td>Cero por_me</td>\n",
       "      <td>Cero por_me</td>\n",
       "      <td>Cero por_me</td>\n",
       "    </tr>\n",
       "    <tr>\n",
       "      <th>1</th>\n",
       "      <td>36</td>\n",
       "      <td>Secundaria completa</td>\n",
       "      <td>Casado</td>\n",
       "      <td>FAMILIAR</td>\n",
       "      <td>Independiente - Formal</td>\n",
       "      <td>3.0</td>\n",
       "      <td>NaN</td>\n",
       "      <td>NaN</td>\n",
       "      <td>NaN</td>\n",
       "      <td>NaN</td>\n",
       "      <td>...</td>\n",
       "      <td>Cero linea_activa</td>\n",
       "      <td>Cero por_uso_linea</td>\n",
       "      <td>Cero por_uso_linea</td>\n",
       "      <td>Cero por_uso_linea</td>\n",
       "      <td>Cero por_uso_efectivo</td>\n",
       "      <td>Cero por_uso_efectivo</td>\n",
       "      <td>Cero por_uso_efectivo</td>\n",
       "      <td>Cero por_me</td>\n",
       "      <td>Cero por_me</td>\n",
       "      <td>Cero por_me</td>\n",
       "    </tr>\n",
       "  </tbody>\n",
       "</table>\n",
       "<p>2 rows × 330 columns</p>\n",
       "</div>"
      ],
      "text/plain": [
       "   edad            educacion estado_civil   vivienda  \\\n",
       "0    49  Secundaria completa  Conviviente  ALQUILADO   \n",
       "1    36  Secundaria completa       Casado   FAMILIAR   \n",
       "\n",
       "                     perfil  carga_fam  ingreso  maf  ci  cuota  ...  \\\n",
       "0  Independiente - Informal        0.0      NaN  NaN NaN    NaN  ...   \n",
       "1    Independiente - Formal        3.0      NaN  NaN NaN    NaN  ...   \n",
       "\n",
       "  linea_activa_max1m6_max7m12  por_uso_linea_1m_max2m12  \\\n",
       "0          Menor linea_activa        Cero por_uso_linea   \n",
       "1           Cero linea_activa        Cero por_uso_linea   \n",
       "\n",
       "   por_uso_linea_max1m3_max4m12  por_uso_linea_max1m6_max7m12  \\\n",
       "0            Cero por_uso_linea            Cero por_uso_linea   \n",
       "1            Cero por_uso_linea            Cero por_uso_linea   \n",
       "\n",
       "   por_uso_efectivo_1m_max2m12  por_uso_efectivo_max1m3_max4m12  \\\n",
       "0        Cero por_uso_efectivo            Cero por_uso_efectivo   \n",
       "1        Cero por_uso_efectivo            Cero por_uso_efectivo   \n",
       "\n",
       "   por_uso_efectivo_max1m6_max7m12  por_me_1m_max2m12  por_me_max1m3_max4m12  \\\n",
       "0            Cero por_uso_efectivo        Cero por_me            Cero por_me   \n",
       "1            Cero por_uso_efectivo        Cero por_me            Cero por_me   \n",
       "\n",
       "   por_me_max1m6_max7m12  \n",
       "0            Cero por_me  \n",
       "1            Cero por_me  \n",
       "\n",
       "[2 rows x 330 columns]"
      ]
     },
     "metadata": {},
     "execution_count": 123
    }
   ],
   "metadata": {}
  },
  {
   "cell_type": "code",
   "execution_count": 124,
   "source": [
    "X_test.head(2)"
   ],
   "outputs": [
    {
     "output_type": "execute_result",
     "data": {
      "text/html": [
       "<div>\n",
       "<style scoped>\n",
       "    .dataframe tbody tr th:only-of-type {\n",
       "        vertical-align: middle;\n",
       "    }\n",
       "\n",
       "    .dataframe tbody tr th {\n",
       "        vertical-align: top;\n",
       "    }\n",
       "\n",
       "    .dataframe thead th {\n",
       "        text-align: right;\n",
       "    }\n",
       "</style>\n",
       "<table border=\"1\" class=\"dataframe\">\n",
       "  <thead>\n",
       "    <tr style=\"text-align: right;\">\n",
       "      <th></th>\n",
       "      <th>edad</th>\n",
       "      <th>educacion</th>\n",
       "      <th>estado_civil</th>\n",
       "      <th>vivienda</th>\n",
       "      <th>perfil</th>\n",
       "      <th>carga_fam</th>\n",
       "      <th>ingreso</th>\n",
       "      <th>maf</th>\n",
       "      <th>ci</th>\n",
       "      <th>cuota</th>\n",
       "      <th>...</th>\n",
       "      <th>linea_activa_max1m6_max7m12</th>\n",
       "      <th>por_uso_linea_1m_max2m12</th>\n",
       "      <th>por_uso_linea_max1m3_max4m12</th>\n",
       "      <th>por_uso_linea_max1m6_max7m12</th>\n",
       "      <th>por_uso_efectivo_1m_max2m12</th>\n",
       "      <th>por_uso_efectivo_max1m3_max4m12</th>\n",
       "      <th>por_uso_efectivo_max1m6_max7m12</th>\n",
       "      <th>por_me_1m_max2m12</th>\n",
       "      <th>por_me_max1m3_max4m12</th>\n",
       "      <th>por_me_max1m6_max7m12</th>\n",
       "    </tr>\n",
       "  </thead>\n",
       "  <tbody>\n",
       "    <tr>\n",
       "      <th>3173</th>\n",
       "      <td>50</td>\n",
       "      <td>Secundaria completa</td>\n",
       "      <td>Casado</td>\n",
       "      <td>FAMILIAR</td>\n",
       "      <td>Taxista propietario</td>\n",
       "      <td>0.0</td>\n",
       "      <td>3461.0</td>\n",
       "      <td>29395.0</td>\n",
       "      <td>1500.0</td>\n",
       "      <td>1012.0</td>\n",
       "      <td>...</td>\n",
       "      <td>Menor linea_activa</td>\n",
       "      <td>Menor por_uso_linea</td>\n",
       "      <td>Mayor por_uso_linea</td>\n",
       "      <td>Mayor por_uso_linea</td>\n",
       "      <td>Cero por_uso_efectivo</td>\n",
       "      <td>Cero por_uso_efectivo</td>\n",
       "      <td>Cero por_uso_efectivo</td>\n",
       "      <td>Cero por_me</td>\n",
       "      <td>Cero por_me</td>\n",
       "      <td>Cero por_me</td>\n",
       "    </tr>\n",
       "    <tr>\n",
       "      <th>3174</th>\n",
       "      <td>45</td>\n",
       "      <td>Secundaria completa</td>\n",
       "      <td>Casado</td>\n",
       "      <td>PROPIO</td>\n",
       "      <td>Taxista palanca</td>\n",
       "      <td>2.0</td>\n",
       "      <td>3461.0</td>\n",
       "      <td>35297.0</td>\n",
       "      <td>1500.0</td>\n",
       "      <td>1334.0</td>\n",
       "      <td>...</td>\n",
       "      <td>Cero linea_activa</td>\n",
       "      <td>Cero por_uso_linea</td>\n",
       "      <td>Cero por_uso_linea</td>\n",
       "      <td>Cero por_uso_linea</td>\n",
       "      <td>Cero por_uso_efectivo</td>\n",
       "      <td>Cero por_uso_efectivo</td>\n",
       "      <td>Cero por_uso_efectivo</td>\n",
       "      <td>Cero por_me</td>\n",
       "      <td>Cero por_me</td>\n",
       "      <td>Cero por_me</td>\n",
       "    </tr>\n",
       "  </tbody>\n",
       "</table>\n",
       "<p>2 rows × 330 columns</p>\n",
       "</div>"
      ],
      "text/plain": [
       "      edad            educacion estado_civil  vivienda               perfil  \\\n",
       "3173    50  Secundaria completa       Casado  FAMILIAR  Taxista propietario   \n",
       "3174    45  Secundaria completa       Casado    PROPIO      Taxista palanca   \n",
       "\n",
       "      carga_fam  ingreso      maf      ci   cuota  ...  \\\n",
       "3173        0.0   3461.0  29395.0  1500.0  1012.0  ...   \n",
       "3174        2.0   3461.0  35297.0  1500.0  1334.0  ...   \n",
       "\n",
       "     linea_activa_max1m6_max7m12  por_uso_linea_1m_max2m12  \\\n",
       "3173          Menor linea_activa       Menor por_uso_linea   \n",
       "3174           Cero linea_activa        Cero por_uso_linea   \n",
       "\n",
       "      por_uso_linea_max1m3_max4m12  por_uso_linea_max1m6_max7m12  \\\n",
       "3173           Mayor por_uso_linea           Mayor por_uso_linea   \n",
       "3174            Cero por_uso_linea            Cero por_uso_linea   \n",
       "\n",
       "      por_uso_efectivo_1m_max2m12  por_uso_efectivo_max1m3_max4m12  \\\n",
       "3173        Cero por_uso_efectivo            Cero por_uso_efectivo   \n",
       "3174        Cero por_uso_efectivo            Cero por_uso_efectivo   \n",
       "\n",
       "      por_uso_efectivo_max1m6_max7m12  por_me_1m_max2m12  \\\n",
       "3173            Cero por_uso_efectivo        Cero por_me   \n",
       "3174            Cero por_uso_efectivo        Cero por_me   \n",
       "\n",
       "      por_me_max1m3_max4m12  por_me_max1m6_max7m12  \n",
       "3173            Cero por_me            Cero por_me  \n",
       "3174            Cero por_me            Cero por_me  \n",
       "\n",
       "[2 rows x 330 columns]"
      ]
     },
     "metadata": {},
     "execution_count": 124
    }
   ],
   "metadata": {}
  },
  {
   "cell_type": "code",
   "execution_count": 125,
   "source": [
    "y_train.mean()"
   ],
   "outputs": [
    {
     "output_type": "execute_result",
     "data": {
      "text/plain": [
       "malo    0.256172\n",
       "dtype: float64"
      ]
     },
     "metadata": {},
     "execution_count": 125
    }
   ],
   "metadata": {}
  },
  {
   "cell_type": "code",
   "execution_count": 126,
   "source": [
    "y_test.mean()"
   ],
   "outputs": [
    {
     "output_type": "execute_result",
     "data": {
      "text/plain": [
       "malo    0.224556\n",
       "dtype: float64"
      ]
     },
     "metadata": {},
     "execution_count": 126
    }
   ],
   "metadata": {}
  },
  {
   "cell_type": "markdown",
   "source": [
    "## Exploración"
   ],
   "metadata": {}
  },
  {
   "cell_type": "code",
   "execution_count": 127,
   "source": [
    "X_train[demo].dtypes"
   ],
   "outputs": [
    {
     "output_type": "execute_result",
     "data": {
      "text/plain": [
       "edad              int64\n",
       "educacion        object\n",
       "estado_civil     object\n",
       "vivienda         object\n",
       "perfil           object\n",
       "carga_fam       float64\n",
       "ingreso         float64\n",
       "dtype: object"
      ]
     },
     "metadata": {},
     "execution_count": 127
    }
   ],
   "metadata": {}
  },
  {
   "cell_type": "code",
   "execution_count": 128,
   "source": [
    "X_train[demo].describe(percentiles=[.01, .05, .1, .25, .5, .75, .9, .95, .99])"
   ],
   "outputs": [
    {
     "output_type": "execute_result",
     "data": {
      "text/html": [
       "<div>\n",
       "<style scoped>\n",
       "    .dataframe tbody tr th:only-of-type {\n",
       "        vertical-align: middle;\n",
       "    }\n",
       "\n",
       "    .dataframe tbody tr th {\n",
       "        vertical-align: top;\n",
       "    }\n",
       "\n",
       "    .dataframe thead th {\n",
       "        text-align: right;\n",
       "    }\n",
       "</style>\n",
       "<table border=\"1\" class=\"dataframe\">\n",
       "  <thead>\n",
       "    <tr style=\"text-align: right;\">\n",
       "      <th></th>\n",
       "      <th>edad</th>\n",
       "      <th>carga_fam</th>\n",
       "      <th>ingreso</th>\n",
       "    </tr>\n",
       "  </thead>\n",
       "  <tbody>\n",
       "    <tr>\n",
       "      <th>count</th>\n",
       "      <td>3119.000000</td>\n",
       "      <td>3119.000000</td>\n",
       "      <td>2430.000000</td>\n",
       "    </tr>\n",
       "    <tr>\n",
       "      <th>mean</th>\n",
       "      <td>36.944534</td>\n",
       "      <td>1.631292</td>\n",
       "      <td>3544.536626</td>\n",
       "    </tr>\n",
       "    <tr>\n",
       "      <th>std</th>\n",
       "      <td>10.443768</td>\n",
       "      <td>1.267594</td>\n",
       "      <td>104.196825</td>\n",
       "    </tr>\n",
       "    <tr>\n",
       "      <th>min</th>\n",
       "      <td>20.000000</td>\n",
       "      <td>0.000000</td>\n",
       "      <td>1790.000000</td>\n",
       "    </tr>\n",
       "    <tr>\n",
       "      <th>1%</th>\n",
       "      <td>21.000000</td>\n",
       "      <td>0.000000</td>\n",
       "      <td>3334.000000</td>\n",
       "    </tr>\n",
       "    <tr>\n",
       "      <th>5%</th>\n",
       "      <td>23.000000</td>\n",
       "      <td>0.000000</td>\n",
       "      <td>3461.000000</td>\n",
       "    </tr>\n",
       "    <tr>\n",
       "      <th>10%</th>\n",
       "      <td>24.000000</td>\n",
       "      <td>0.000000</td>\n",
       "      <td>3461.000000</td>\n",
       "    </tr>\n",
       "    <tr>\n",
       "      <th>25%</th>\n",
       "      <td>29.000000</td>\n",
       "      <td>1.000000</td>\n",
       "      <td>3461.000000</td>\n",
       "    </tr>\n",
       "    <tr>\n",
       "      <th>50%</th>\n",
       "      <td>36.000000</td>\n",
       "      <td>2.000000</td>\n",
       "      <td>3597.000000</td>\n",
       "    </tr>\n",
       "    <tr>\n",
       "      <th>75%</th>\n",
       "      <td>44.000000</td>\n",
       "      <td>3.000000</td>\n",
       "      <td>3597.000000</td>\n",
       "    </tr>\n",
       "    <tr>\n",
       "      <th>90%</th>\n",
       "      <td>52.000000</td>\n",
       "      <td>3.000000</td>\n",
       "      <td>3597.000000</td>\n",
       "    </tr>\n",
       "    <tr>\n",
       "      <th>95%</th>\n",
       "      <td>57.000000</td>\n",
       "      <td>4.000000</td>\n",
       "      <td>3597.000000</td>\n",
       "    </tr>\n",
       "    <tr>\n",
       "      <th>99%</th>\n",
       "      <td>64.000000</td>\n",
       "      <td>5.000000</td>\n",
       "      <td>3597.000000</td>\n",
       "    </tr>\n",
       "    <tr>\n",
       "      <th>max</th>\n",
       "      <td>71.000000</td>\n",
       "      <td>7.000000</td>\n",
       "      <td>5534.000000</td>\n",
       "    </tr>\n",
       "  </tbody>\n",
       "</table>\n",
       "</div>"
      ],
      "text/plain": [
       "              edad    carga_fam      ingreso\n",
       "count  3119.000000  3119.000000  2430.000000\n",
       "mean     36.944534     1.631292  3544.536626\n",
       "std      10.443768     1.267594   104.196825\n",
       "min      20.000000     0.000000  1790.000000\n",
       "1%       21.000000     0.000000  3334.000000\n",
       "5%       23.000000     0.000000  3461.000000\n",
       "10%      24.000000     0.000000  3461.000000\n",
       "25%      29.000000     1.000000  3461.000000\n",
       "50%      36.000000     2.000000  3597.000000\n",
       "75%      44.000000     3.000000  3597.000000\n",
       "90%      52.000000     3.000000  3597.000000\n",
       "95%      57.000000     4.000000  3597.000000\n",
       "99%      64.000000     5.000000  3597.000000\n",
       "max      71.000000     7.000000  5534.000000"
      ]
     },
     "metadata": {},
     "execution_count": 128
    }
   ],
   "metadata": {}
  },
  {
   "cell_type": "code",
   "execution_count": 129,
   "source": [
    "X_train[demo].describe(include = 'object')"
   ],
   "outputs": [
    {
     "output_type": "execute_result",
     "data": {
      "text/html": [
       "<div>\n",
       "<style scoped>\n",
       "    .dataframe tbody tr th:only-of-type {\n",
       "        vertical-align: middle;\n",
       "    }\n",
       "\n",
       "    .dataframe tbody tr th {\n",
       "        vertical-align: top;\n",
       "    }\n",
       "\n",
       "    .dataframe thead th {\n",
       "        text-align: right;\n",
       "    }\n",
       "</style>\n",
       "<table border=\"1\" class=\"dataframe\">\n",
       "  <thead>\n",
       "    <tr style=\"text-align: right;\">\n",
       "      <th></th>\n",
       "      <th>educacion</th>\n",
       "      <th>estado_civil</th>\n",
       "      <th>vivienda</th>\n",
       "      <th>perfil</th>\n",
       "    </tr>\n",
       "  </thead>\n",
       "  <tbody>\n",
       "    <tr>\n",
       "      <th>count</th>\n",
       "      <td>3112</td>\n",
       "      <td>3119</td>\n",
       "      <td>3117</td>\n",
       "      <td>3119</td>\n",
       "    </tr>\n",
       "    <tr>\n",
       "      <th>unique</th>\n",
       "      <td>8</td>\n",
       "      <td>5</td>\n",
       "      <td>3</td>\n",
       "      <td>7</td>\n",
       "    </tr>\n",
       "    <tr>\n",
       "      <th>top</th>\n",
       "      <td>Secundaria completa</td>\n",
       "      <td>Soltero</td>\n",
       "      <td>FAMILIAR</td>\n",
       "      <td>Taxista palanca</td>\n",
       "    </tr>\n",
       "    <tr>\n",
       "      <th>freq</th>\n",
       "      <td>2910</td>\n",
       "      <td>1236</td>\n",
       "      <td>2467</td>\n",
       "      <td>2566</td>\n",
       "    </tr>\n",
       "  </tbody>\n",
       "</table>\n",
       "</div>"
      ],
      "text/plain": [
       "                  educacion estado_civil  vivienda           perfil\n",
       "count                  3112         3119      3117             3119\n",
       "unique                    8            5         3                7\n",
       "top     Secundaria completa      Soltero  FAMILIAR  Taxista palanca\n",
       "freq                   2910         1236      2467             2566"
      ]
     },
     "metadata": {},
     "execution_count": 129
    }
   ],
   "metadata": {}
  },
  {
   "cell_type": "markdown",
   "source": [
    "### Graficos Demograficas"
   ],
   "metadata": {}
  },
  {
   "cell_type": "code",
   "execution_count": 130,
   "source": [
    "fig, axs = plt.subplots(nrows= 4, ncols=2, figsize=(20,15)) # figsize: ancho x alto\r\n",
    "plt.subplots_adjust(left=0.125, bottom=0.1, right=0.9, top=0.9, wspace=0.2, hspace=0.35)\r\n",
    "\r\n",
    "sns.histplot(data = X_train, x = 'edad', ax=axs[0, 0]).set(title = \"Distribucion de la Edad\", xlabel=None, ylabel = 'Frecuency')\r\n",
    "sns.countplot(data = X_train, x = 'estado_civil', ax=axs[0, 1]).set(title = \"Distribucion del Estado Civil\", xlabel=None, ylabel= None)\r\n",
    "sns.countplot(data = X_train, y = 'educacion', ax=axs[1, 0]).set(title = \"Distribucion de la Educacion\", xlabel=None, ylabel= None)\r\n",
    "sns.countplot(data = X_train, x = 'vivienda', ax=axs[1, 1]).set(title = \"Distribucion de la Vivienda\", xlabel=None, ylabel= None)\r\n",
    "sns.countplot(data = X_train, y = 'perfil', ax=axs[2, 0]).set(title = \"Distribucion de la perfil\", xlabel=None, ylabel= None)\r\n",
    "sns.countplot(data = X_train, x = 'carga_fam', ax=axs[2, 1]).set(title = \"Distribucion de la Carga Familiar\", xlabel=None, ylabel= None)\r\n",
    "sns.histplot(data = X_train, x = 'ingreso', ax=axs[3, 0], bins = 50).set(title = \"Distribucion de la Ingreso\", xlabel=None, ylabel= None)\r\n",
    "\r\n",
    "pass"
   ],
   "outputs": [
    {
     "output_type": "display_data",
     "data": {
      "image/png": "[encoded data removed]",
      "text/plain": [
       "<Figure size 1440x1080 with 8 Axes>"
      ]
     },
     "metadata": {
      "needs_background": "light"
     }
    }
   ],
   "metadata": {}
  },
  {
   "cell_type": "code",
   "execution_count": 131,
   "source": [
    "dict_dem = {\r\n",
    "    'dict_educacion' : {\r\n",
    "        \"Sin estudios\": \"SinEst_Prim_Sec\",\r\n",
    "        \"Primaria completa\": \"SinEst_Prim_Sec\",\r\n",
    "        \"Primaria incompleta\": \"SinEst_Prim_Sec\",\r\n",
    "        \"Secundaria incompleta\": \"SinEst_Prim_Sec\",\r\n",
    "        \"Secundaria completa\": \"SinEst_Prim_Sec\",\r\n",
    "        \"Superior técnico incompleto\": \"Tecnico\",\r\n",
    "        \"Superior técnico completo\": \"Tecnico\",\r\n",
    "        \"Superior universitario incompleto\": \"Univ_Postg\",\r\n",
    "        \"Superior universitario completo\": \"Univ_Postg\",\r\n",
    "        \"Post-grado incompleto\": \"Univ_Postg\",\r\n",
    "        \"Post-grado\": \"Univ_Postg\",\r\n",
    "        \"Post-grado completo\": \"Univ_Postg\"\r\n",
    "    },\r\n",
    "    'dict_perfil' : {\r\n",
    "        \"Taxista propietario\": \"5.Propietario\",\r\n",
    "        \"Mototaxista propietario\": \"5.Propietario\",\r\n",
    "        \"Transportista\": \"3.Palanca\",\r\n",
    "        \"Taxista palanca\": \"3.Palanca\",\r\n",
    "        \"Mototaxista palanca\": \"3.Palanca\",\r\n",
    "        \"Dependiente - Informal\": \"4.Depen. Formal\",\r\n",
    "        \"Dependiente - Formal\": \"4.Depen. Formal\",\r\n",
    "        \"Semidependiente - Formal\": \"4.Depen. Formal\",\r\n",
    "        \"Dependiente - Semiformal\": \"4.Depen. Formal\",\r\n",
    "        \"Independiente - Formal\": \"2.Indep. Formal\", \r\n",
    "        \"Independiente - Informal\": \"1.Indep. Infor.\"\r\n",
    "    }\r\n",
    "}\r\n"
   ],
   "outputs": [],
   "metadata": {}
  },
  {
   "cell_type": "code",
   "execution_count": 132,
   "source": [
    "X_train = X_train.replace({'educacion': dict_dem['dict_educacion']})\r\n",
    "X_train = X_train.replace({'perfil': dict_dem['dict_perfil']})\r\n",
    "\r\n",
    "X_train['carga_fam'] = np.where( np.isnan(X_train['carga_fam']), 'Otros/ NULL/ NA', np.where( X_train['carga_fam'] >= 3, \"+3\", X_train['carga_fam'] ) )\r\n",
    "X_train['carga_fam'] = X_train.replace('Otros/ NULL/ NA',np.nan)['carga_fam']"
   ],
   "outputs": [],
   "metadata": {}
  },
  {
   "cell_type": "code",
   "execution_count": 133,
   "source": [
    "fig, axs = plt.subplots(nrows= 4, ncols=2, figsize=(20,15)) # figsize: ancho x alto\r\n",
    "plt.subplots_adjust(left=0.125, bottom=0.1, right=0.9, top=0.9, wspace=0.2, hspace=0.35)\r\n",
    "\r\n",
    "sns.histplot(data = X_train, x = 'edad', ax=axs[0, 0]).set(title = \"Distribucion de la Edad\", xlabel=None, ylabel = 'Frecuency')\r\n",
    "sns.countplot(data = X_train, x = 'estado_civil', ax=axs[0, 1]).set(title = \"Distribucion del Estado Civil\", xlabel=None, ylabel= None)\r\n",
    "sns.countplot(data = X_train, x = 'educacion', ax=axs[1, 0]).set(title = \"Distribucion de la Educacion\", xlabel=None, ylabel= None)\r\n",
    "sns.countplot(data = X_train, x = 'vivienda', ax=axs[1, 1]).set(title = \"Distribucion de la Vivienda\", xlabel=None, ylabel= None)\r\n",
    "sns.countplot(data = X_train, y = 'perfil', ax=axs[2, 0]).set(title = \"Distribucion de la perfil\", xlabel=None, ylabel= None)\r\n",
    "sns.countplot(data = X_train, x = 'carga_fam', ax=axs[2, 1]).set(title = \"Distribucion de la Carga Familiar\", xlabel=None, ylabel= None)\r\n",
    "sns.histplot(data = X_train, x = 'ingreso', ax=axs[3, 0], bins = 50).set(title = \"Distribucion de la Ingreso\", xlabel=None, ylabel= None)\r\n",
    "pass                                        "
   ],
   "outputs": [
    {
     "output_type": "display_data",
     "data": {
      "image/png": "[encoded data removed]",
      "text/plain": [
       "<Figure size 1440x1080 with 8 Axes>"
      ]
     },
     "metadata": {
      "needs_background": "light"
     }
    }
   ],
   "metadata": {}
  },
  {
   "cell_type": "code",
   "execution_count": 134,
   "source": [
    "X_train[inter].dtypes"
   ],
   "outputs": [
    {
     "output_type": "execute_result",
     "data": {
      "text/plain": [
       "antiguedad                  float64\n",
       "cuotas_pend                   int64\n",
       "cuotas_canc                 float64\n",
       "saldo_cap                   float64\n",
       "saldo_int                   float64\n",
       "saldo_mora                  float64\n",
       "provision                   float64\n",
       "garpref                        bool\n",
       "cap_vig                     float64\n",
       "cap_ref                     float64\n",
       "cap_ven                     float64\n",
       "cap_jud                     float64\n",
       "mora_prom1m6                float64\n",
       "mora                        float64\n",
       "calificacion_conalin          int64\n",
       "calificacion_sinalin          int64\n",
       "sobreend                    float64\n",
       "riesgocc                    float64\n",
       "refin                        object\n",
       "refinanciacion              float64\n",
       "im_pagcof                   float64\n",
       "carga_gnv                   float64\n",
       "nro_carga_gnv               float64\n",
       "cv_carga_gnv                float64\n",
       "relacion_im_pagcof_cuota    float64\n",
       "relacion_carga_gnv_cuota    float64\n",
       "dtype: object"
      ]
     },
     "metadata": {},
     "execution_count": 134
    }
   ],
   "metadata": {}
  },
  {
   "cell_type": "code",
   "execution_count": 135,
   "source": [
    "X_train[inter].describe(percentiles=[.01, .05, .1, .25, .5, .75, .9, .95, .99])"
   ],
   "outputs": [
    {
     "output_type": "execute_result",
     "data": {
      "text/html": [
       "<div>\n",
       "<style scoped>\n",
       "    .dataframe tbody tr th:only-of-type {\n",
       "        vertical-align: middle;\n",
       "    }\n",
       "\n",
       "    .dataframe tbody tr th {\n",
       "        vertical-align: top;\n",
       "    }\n",
       "\n",
       "    .dataframe thead th {\n",
       "        text-align: right;\n",
       "    }\n",
       "</style>\n",
       "<table border=\"1\" class=\"dataframe\">\n",
       "  <thead>\n",
       "    <tr style=\"text-align: right;\">\n",
       "      <th></th>\n",
       "      <th>antiguedad</th>\n",
       "      <th>cuotas_pend</th>\n",
       "      <th>cuotas_canc</th>\n",
       "      <th>saldo_cap</th>\n",
       "      <th>saldo_int</th>\n",
       "      <th>saldo_mora</th>\n",
       "      <th>provision</th>\n",
       "      <th>cap_vig</th>\n",
       "      <th>cap_ref</th>\n",
       "      <th>cap_ven</th>\n",
       "      <th>...</th>\n",
       "      <th>calificacion_sinalin</th>\n",
       "      <th>sobreend</th>\n",
       "      <th>riesgocc</th>\n",
       "      <th>refinanciacion</th>\n",
       "      <th>im_pagcof</th>\n",
       "      <th>carga_gnv</th>\n",
       "      <th>nro_carga_gnv</th>\n",
       "      <th>cv_carga_gnv</th>\n",
       "      <th>relacion_im_pagcof_cuota</th>\n",
       "      <th>relacion_carga_gnv_cuota</th>\n",
       "    </tr>\n",
       "  </thead>\n",
       "  <tbody>\n",
       "    <tr>\n",
       "      <th>count</th>\n",
       "      <td>68.000000</td>\n",
       "      <td>3119.000000</td>\n",
       "      <td>0.0</td>\n",
       "      <td>3119.000000</td>\n",
       "      <td>3119.000000</td>\n",
       "      <td>3119.0</td>\n",
       "      <td>3119.000000</td>\n",
       "      <td>3119.000000</td>\n",
       "      <td>3119.000000</td>\n",
       "      <td>3119.0</td>\n",
       "      <td>...</td>\n",
       "      <td>3119.000000</td>\n",
       "      <td>0.0</td>\n",
       "      <td>0.0</td>\n",
       "      <td>0.0</td>\n",
       "      <td>0.0</td>\n",
       "      <td>0.0</td>\n",
       "      <td>0.0</td>\n",
       "      <td>0.0</td>\n",
       "      <td>0.0</td>\n",
       "      <td>0.0</td>\n",
       "    </tr>\n",
       "    <tr>\n",
       "      <th>mean</th>\n",
       "      <td>2.955882</td>\n",
       "      <td>49.131773</td>\n",
       "      <td>NaN</td>\n",
       "      <td>38837.273011</td>\n",
       "      <td>26.435338</td>\n",
       "      <td>0.0</td>\n",
       "      <td>2339.641988</td>\n",
       "      <td>38789.268586</td>\n",
       "      <td>48.004424</td>\n",
       "      <td>0.0</td>\n",
       "      <td>...</td>\n",
       "      <td>0.024046</td>\n",
       "      <td>NaN</td>\n",
       "      <td>NaN</td>\n",
       "      <td>NaN</td>\n",
       "      <td>NaN</td>\n",
       "      <td>NaN</td>\n",
       "      <td>NaN</td>\n",
       "      <td>NaN</td>\n",
       "      <td>NaN</td>\n",
       "      <td>NaN</td>\n",
       "    </tr>\n",
       "    <tr>\n",
       "      <th>std</th>\n",
       "      <td>1.028458</td>\n",
       "      <td>24.120640</td>\n",
       "      <td>NaN</td>\n",
       "      <td>6621.599336</td>\n",
       "      <td>130.242332</td>\n",
       "      <td>0.0</td>\n",
       "      <td>6441.122483</td>\n",
       "      <td>6761.292442</td>\n",
       "      <td>1362.281069</td>\n",
       "      <td>0.0</td>\n",
       "      <td>...</td>\n",
       "      <td>0.237042</td>\n",
       "      <td>NaN</td>\n",
       "      <td>NaN</td>\n",
       "      <td>NaN</td>\n",
       "      <td>NaN</td>\n",
       "      <td>NaN</td>\n",
       "      <td>NaN</td>\n",
       "      <td>NaN</td>\n",
       "      <td>NaN</td>\n",
       "      <td>NaN</td>\n",
       "    </tr>\n",
       "    <tr>\n",
       "      <th>min</th>\n",
       "      <td>1.000000</td>\n",
       "      <td>7.000000</td>\n",
       "      <td>NaN</td>\n",
       "      <td>8731.870000</td>\n",
       "      <td>0.000000</td>\n",
       "      <td>0.0</td>\n",
       "      <td>87.320000</td>\n",
       "      <td>0.000000</td>\n",
       "      <td>0.000000</td>\n",
       "      <td>0.0</td>\n",
       "      <td>...</td>\n",
       "      <td>0.000000</td>\n",
       "      <td>NaN</td>\n",
       "      <td>NaN</td>\n",
       "      <td>NaN</td>\n",
       "      <td>NaN</td>\n",
       "      <td>NaN</td>\n",
       "      <td>NaN</td>\n",
       "      <td>NaN</td>\n",
       "      <td>NaN</td>\n",
       "      <td>NaN</td>\n",
       "    </tr>\n",
       "    <tr>\n",
       "      <th>1%</th>\n",
       "      <td>1.000000</td>\n",
       "      <td>30.000000</td>\n",
       "      <td>NaN</td>\n",
       "      <td>23575.180000</td>\n",
       "      <td>0.000000</td>\n",
       "      <td>0.0</td>\n",
       "      <td>240.495800</td>\n",
       "      <td>22999.480800</td>\n",
       "      <td>0.000000</td>\n",
       "      <td>0.0</td>\n",
       "      <td>...</td>\n",
       "      <td>0.000000</td>\n",
       "      <td>NaN</td>\n",
       "      <td>NaN</td>\n",
       "      <td>NaN</td>\n",
       "      <td>NaN</td>\n",
       "      <td>NaN</td>\n",
       "      <td>NaN</td>\n",
       "      <td>NaN</td>\n",
       "      <td>NaN</td>\n",
       "      <td>NaN</td>\n",
       "    </tr>\n",
       "    <tr>\n",
       "      <th>5%</th>\n",
       "      <td>2.000000</td>\n",
       "      <td>36.000000</td>\n",
       "      <td>NaN</td>\n",
       "      <td>28432.814000</td>\n",
       "      <td>0.000000</td>\n",
       "      <td>0.0</td>\n",
       "      <td>292.183000</td>\n",
       "      <td>28330.284000</td>\n",
       "      <td>0.000000</td>\n",
       "      <td>0.0</td>\n",
       "      <td>...</td>\n",
       "      <td>0.000000</td>\n",
       "      <td>NaN</td>\n",
       "      <td>NaN</td>\n",
       "      <td>NaN</td>\n",
       "      <td>NaN</td>\n",
       "      <td>NaN</td>\n",
       "      <td>NaN</td>\n",
       "      <td>NaN</td>\n",
       "      <td>NaN</td>\n",
       "      <td>NaN</td>\n",
       "    </tr>\n",
       "    <tr>\n",
       "      <th>10%</th>\n",
       "      <td>2.000000</td>\n",
       "      <td>36.000000</td>\n",
       "      <td>NaN</td>\n",
       "      <td>30629.000000</td>\n",
       "      <td>0.000000</td>\n",
       "      <td>0.0</td>\n",
       "      <td>307.844000</td>\n",
       "      <td>30629.000000</td>\n",
       "      <td>0.000000</td>\n",
       "      <td>0.0</td>\n",
       "      <td>...</td>\n",
       "      <td>0.000000</td>\n",
       "      <td>NaN</td>\n",
       "      <td>NaN</td>\n",
       "      <td>NaN</td>\n",
       "      <td>NaN</td>\n",
       "      <td>NaN</td>\n",
       "      <td>NaN</td>\n",
       "      <td>NaN</td>\n",
       "      <td>NaN</td>\n",
       "      <td>NaN</td>\n",
       "    </tr>\n",
       "    <tr>\n",
       "      <th>25%</th>\n",
       "      <td>2.000000</td>\n",
       "      <td>42.000000</td>\n",
       "      <td>NaN</td>\n",
       "      <td>34897.730000</td>\n",
       "      <td>0.000000</td>\n",
       "      <td>0.0</td>\n",
       "      <td>351.725000</td>\n",
       "      <td>34887.895000</td>\n",
       "      <td>0.000000</td>\n",
       "      <td>0.0</td>\n",
       "      <td>...</td>\n",
       "      <td>0.000000</td>\n",
       "      <td>NaN</td>\n",
       "      <td>NaN</td>\n",
       "      <td>NaN</td>\n",
       "      <td>NaN</td>\n",
       "      <td>NaN</td>\n",
       "      <td>NaN</td>\n",
       "      <td>NaN</td>\n",
       "      <td>NaN</td>\n",
       "      <td>NaN</td>\n",
       "    </tr>\n",
       "    <tr>\n",
       "      <th>50%</th>\n",
       "      <td>3.000000</td>\n",
       "      <td>48.000000</td>\n",
       "      <td>NaN</td>\n",
       "      <td>38633.380000</td>\n",
       "      <td>0.000000</td>\n",
       "      <td>0.0</td>\n",
       "      <td>398.800000</td>\n",
       "      <td>38614.000000</td>\n",
       "      <td>0.000000</td>\n",
       "      <td>0.0</td>\n",
       "      <td>...</td>\n",
       "      <td>0.000000</td>\n",
       "      <td>NaN</td>\n",
       "      <td>NaN</td>\n",
       "      <td>NaN</td>\n",
       "      <td>NaN</td>\n",
       "      <td>NaN</td>\n",
       "      <td>NaN</td>\n",
       "      <td>NaN</td>\n",
       "      <td>NaN</td>\n",
       "      <td>NaN</td>\n",
       "    </tr>\n",
       "    <tr>\n",
       "      <th>75%</th>\n",
       "      <td>3.250000</td>\n",
       "      <td>48.000000</td>\n",
       "      <td>NaN</td>\n",
       "      <td>43562.000000</td>\n",
       "      <td>0.000000</td>\n",
       "      <td>0.0</td>\n",
       "      <td>467.470000</td>\n",
       "      <td>43562.000000</td>\n",
       "      <td>0.000000</td>\n",
       "      <td>0.0</td>\n",
       "      <td>...</td>\n",
       "      <td>0.000000</td>\n",
       "      <td>NaN</td>\n",
       "      <td>NaN</td>\n",
       "      <td>NaN</td>\n",
       "      <td>NaN</td>\n",
       "      <td>NaN</td>\n",
       "      <td>NaN</td>\n",
       "      <td>NaN</td>\n",
       "      <td>NaN</td>\n",
       "      <td>NaN</td>\n",
       "    </tr>\n",
       "    <tr>\n",
       "      <th>90%</th>\n",
       "      <td>4.300000</td>\n",
       "      <td>48.000000</td>\n",
       "      <td>NaN</td>\n",
       "      <td>48604.332000</td>\n",
       "      <td>0.000000</td>\n",
       "      <td>0.0</td>\n",
       "      <td>701.400000</td>\n",
       "      <td>48604.332000</td>\n",
       "      <td>0.000000</td>\n",
       "      <td>0.0</td>\n",
       "      <td>...</td>\n",
       "      <td>0.000000</td>\n",
       "      <td>NaN</td>\n",
       "      <td>NaN</td>\n",
       "      <td>NaN</td>\n",
       "      <td>NaN</td>\n",
       "      <td>NaN</td>\n",
       "      <td>NaN</td>\n",
       "      <td>NaN</td>\n",
       "      <td>NaN</td>\n",
       "      <td>NaN</td>\n",
       "    </tr>\n",
       "    <tr>\n",
       "      <th>95%</th>\n",
       "      <td>5.000000</td>\n",
       "      <td>53.000000</td>\n",
       "      <td>NaN</td>\n",
       "      <td>49572.000000</td>\n",
       "      <td>134.860000</td>\n",
       "      <td>0.0</td>\n",
       "      <td>21167.256000</td>\n",
       "      <td>49572.000000</td>\n",
       "      <td>0.000000</td>\n",
       "      <td>0.0</td>\n",
       "      <td>...</td>\n",
       "      <td>0.000000</td>\n",
       "      <td>NaN</td>\n",
       "      <td>NaN</td>\n",
       "      <td>NaN</td>\n",
       "      <td>NaN</td>\n",
       "      <td>NaN</td>\n",
       "      <td>NaN</td>\n",
       "      <td>NaN</td>\n",
       "      <td>NaN</td>\n",
       "      <td>NaN</td>\n",
       "    </tr>\n",
       "    <tr>\n",
       "      <th>99%</th>\n",
       "      <td>5.000000</td>\n",
       "      <td>208.000000</td>\n",
       "      <td>NaN</td>\n",
       "      <td>50273.850600</td>\n",
       "      <td>802.767800</td>\n",
       "      <td>0.0</td>\n",
       "      <td>29265.327000</td>\n",
       "      <td>50273.850600</td>\n",
       "      <td>0.000000</td>\n",
       "      <td>0.0</td>\n",
       "      <td>...</td>\n",
       "      <td>1.000000</td>\n",
       "      <td>NaN</td>\n",
       "      <td>NaN</td>\n",
       "      <td>NaN</td>\n",
       "      <td>NaN</td>\n",
       "      <td>NaN</td>\n",
       "      <td>NaN</td>\n",
       "      <td>NaN</td>\n",
       "      <td>NaN</td>\n",
       "      <td>NaN</td>\n",
       "    </tr>\n",
       "    <tr>\n",
       "      <th>max</th>\n",
       "      <td>5.000000</td>\n",
       "      <td>260.000000</td>\n",
       "      <td>NaN</td>\n",
       "      <td>86394.000000</td>\n",
       "      <td>1501.640000</td>\n",
       "      <td>0.0</td>\n",
       "      <td>49272.000000</td>\n",
       "      <td>86394.000000</td>\n",
       "      <td>45010.180000</td>\n",
       "      <td>0.0</td>\n",
       "      <td>...</td>\n",
       "      <td>4.000000</td>\n",
       "      <td>NaN</td>\n",
       "      <td>NaN</td>\n",
       "      <td>NaN</td>\n",
       "      <td>NaN</td>\n",
       "      <td>NaN</td>\n",
       "      <td>NaN</td>\n",
       "      <td>NaN</td>\n",
       "      <td>NaN</td>\n",
       "      <td>NaN</td>\n",
       "    </tr>\n",
       "  </tbody>\n",
       "</table>\n",
       "<p>14 rows × 24 columns</p>\n",
       "</div>"
      ],
      "text/plain": [
       "       antiguedad  cuotas_pend  cuotas_canc     saldo_cap    saldo_int  \\\n",
       "count   68.000000  3119.000000          0.0   3119.000000  3119.000000   \n",
       "mean     2.955882    49.131773          NaN  38837.273011    26.435338   \n",
       "std      1.028458    24.120640          NaN   6621.599336   130.242332   \n",
       "min      1.000000     7.000000          NaN   8731.870000     0.000000   \n",
       "1%       1.000000    30.000000          NaN  23575.180000     0.000000   \n",
       "5%       2.000000    36.000000          NaN  28432.814000     0.000000   \n",
       "10%      2.000000    36.000000          NaN  30629.000000     0.000000   \n",
       "25%      2.000000    42.000000          NaN  34897.730000     0.000000   \n",
       "50%      3.000000    48.000000          NaN  38633.380000     0.000000   \n",
       "75%      3.250000    48.000000          NaN  43562.000000     0.000000   \n",
       "90%      4.300000    48.000000          NaN  48604.332000     0.000000   \n",
       "95%      5.000000    53.000000          NaN  49572.000000   134.860000   \n",
       "99%      5.000000   208.000000          NaN  50273.850600   802.767800   \n",
       "max      5.000000   260.000000          NaN  86394.000000  1501.640000   \n",
       "\n",
       "       saldo_mora     provision       cap_vig       cap_ref  cap_ven  ...  \\\n",
       "count      3119.0   3119.000000   3119.000000   3119.000000   3119.0  ...   \n",
       "mean          0.0   2339.641988  38789.268586     48.004424      0.0  ...   \n",
       "std           0.0   6441.122483   6761.292442   1362.281069      0.0  ...   \n",
       "min           0.0     87.320000      0.000000      0.000000      0.0  ...   \n",
       "1%            0.0    240.495800  22999.480800      0.000000      0.0  ...   \n",
       "5%            0.0    292.183000  28330.284000      0.000000      0.0  ...   \n",
       "10%           0.0    307.844000  30629.000000      0.000000      0.0  ...   \n",
       "25%           0.0    351.725000  34887.895000      0.000000      0.0  ...   \n",
       "50%           0.0    398.800000  38614.000000      0.000000      0.0  ...   \n",
       "75%           0.0    467.470000  43562.000000      0.000000      0.0  ...   \n",
       "90%           0.0    701.400000  48604.332000      0.000000      0.0  ...   \n",
       "95%           0.0  21167.256000  49572.000000      0.000000      0.0  ...   \n",
       "99%           0.0  29265.327000  50273.850600      0.000000      0.0  ...   \n",
       "max           0.0  49272.000000  86394.000000  45010.180000      0.0  ...   \n",
       "\n",
       "       calificacion_sinalin  sobreend  riesgocc  refinanciacion  im_pagcof  \\\n",
       "count           3119.000000       0.0       0.0             0.0        0.0   \n",
       "mean               0.024046       NaN       NaN             NaN        NaN   \n",
       "std                0.237042       NaN       NaN             NaN        NaN   \n",
       "min                0.000000       NaN       NaN             NaN        NaN   \n",
       "1%                 0.000000       NaN       NaN             NaN        NaN   \n",
       "5%                 0.000000       NaN       NaN             NaN        NaN   \n",
       "10%                0.000000       NaN       NaN             NaN        NaN   \n",
       "25%                0.000000       NaN       NaN             NaN        NaN   \n",
       "50%                0.000000       NaN       NaN             NaN        NaN   \n",
       "75%                0.000000       NaN       NaN             NaN        NaN   \n",
       "90%                0.000000       NaN       NaN             NaN        NaN   \n",
       "95%                0.000000       NaN       NaN             NaN        NaN   \n",
       "99%                1.000000       NaN       NaN             NaN        NaN   \n",
       "max                4.000000       NaN       NaN             NaN        NaN   \n",
       "\n",
       "       carga_gnv  nro_carga_gnv  cv_carga_gnv  relacion_im_pagcof_cuota  \\\n",
       "count        0.0            0.0           0.0                       0.0   \n",
       "mean         NaN            NaN           NaN                       NaN   \n",
       "std          NaN            NaN           NaN                       NaN   \n",
       "min          NaN            NaN           NaN                       NaN   \n",
       "1%           NaN            NaN           NaN                       NaN   \n",
       "5%           NaN            NaN           NaN                       NaN   \n",
       "10%          NaN            NaN           NaN                       NaN   \n",
       "25%          NaN            NaN           NaN                       NaN   \n",
       "50%          NaN            NaN           NaN                       NaN   \n",
       "75%          NaN            NaN           NaN                       NaN   \n",
       "90%          NaN            NaN           NaN                       NaN   \n",
       "95%          NaN            NaN           NaN                       NaN   \n",
       "99%          NaN            NaN           NaN                       NaN   \n",
       "max          NaN            NaN           NaN                       NaN   \n",
       "\n",
       "       relacion_carga_gnv_cuota  \n",
       "count                       0.0  \n",
       "mean                        NaN  \n",
       "std                         NaN  \n",
       "min                         NaN  \n",
       "1%                          NaN  \n",
       "5%                          NaN  \n",
       "10%                         NaN  \n",
       "25%                         NaN  \n",
       "50%                         NaN  \n",
       "75%                         NaN  \n",
       "90%                         NaN  \n",
       "95%                         NaN  \n",
       "99%                         NaN  \n",
       "max                         NaN  \n",
       "\n",
       "[14 rows x 24 columns]"
      ]
     },
     "metadata": {},
     "execution_count": 135
    }
   ],
   "metadata": {}
  },
  {
   "cell_type": "code",
   "execution_count": 136,
   "source": [
    "X_train[inter].describe(include = 'object')"
   ],
   "outputs": [
    {
     "output_type": "execute_result",
     "data": {
      "text/html": [
       "<div>\n",
       "<style scoped>\n",
       "    .dataframe tbody tr th:only-of-type {\n",
       "        vertical-align: middle;\n",
       "    }\n",
       "\n",
       "    .dataframe tbody tr th {\n",
       "        vertical-align: top;\n",
       "    }\n",
       "\n",
       "    .dataframe thead th {\n",
       "        text-align: right;\n",
       "    }\n",
       "</style>\n",
       "<table border=\"1\" class=\"dataframe\">\n",
       "  <thead>\n",
       "    <tr style=\"text-align: right;\">\n",
       "      <th></th>\n",
       "      <th>refin</th>\n",
       "    </tr>\n",
       "  </thead>\n",
       "  <tbody>\n",
       "    <tr>\n",
       "      <th>count</th>\n",
       "      <td>3119</td>\n",
       "    </tr>\n",
       "    <tr>\n",
       "      <th>unique</th>\n",
       "      <td>2</td>\n",
       "    </tr>\n",
       "    <tr>\n",
       "      <th>top</th>\n",
       "      <td>False</td>\n",
       "    </tr>\n",
       "    <tr>\n",
       "      <th>freq</th>\n",
       "      <td>3115</td>\n",
       "    </tr>\n",
       "  </tbody>\n",
       "</table>\n",
       "</div>"
      ],
      "text/plain": [
       "        refin\n",
       "count    3119\n",
       "unique      2\n",
       "top     False\n",
       "freq     3115"
      ]
     },
     "metadata": {},
     "execution_count": 136
    }
   ],
   "metadata": {}
  },
  {
   "cell_type": "markdown",
   "source": [
    "### Graficos Internas"
   ],
   "metadata": {}
  },
  {
   "cell_type": "code",
   "execution_count": 137,
   "source": [
    "fig, axs = plt.subplots(nrows= 2, ncols=2, figsize=(20,5)) # figsize: ancho x alto\r\n",
    "plt.subplots_adjust(left=0.125, bottom=0.1, right=0.9, top=0.9, wspace=0.2, hspace=0.35)\r\n",
    "\r\n",
    "sns.countplot(data = X_train, x = 'antiguedad', ax=axs[0, 0]).set(title = \"Distribucion de la Antiguedad\", xlabel=None, ylabel= None)\r\n",
    "sns.countplot(data = X_train, x = 'calificacion_conalin', ax=axs[0, 1]).set(title = \"Calificacion Con Alineamiento\", xlabel=None, ylabel= None)\r\n",
    "sns.countplot(data = X_train, x = 'calificacion_sinalin', ax=axs[1, 0]).set(title = \"Calificacion Sin Alineamiento\", xlabel=None, ylabel= None)\r\n",
    "\r\n",
    "pass"
   ],
   "outputs": [
    {
     "output_type": "display_data",
     "data": {
      "image/png": "[encoded data removed]",
      "text/plain": [
       "<Figure size 1440x360 with 4 Axes>"
      ]
     },
     "metadata": {
      "needs_background": "light"
     }
    }
   ],
   "metadata": {}
  },
  {
   "cell_type": "code",
   "execution_count": 138,
   "source": [
    "mapping_calificacion = {0: 'Normal', 1: 'CPP', 2: 'Deficiente', 3: 'Dudoso', 4:'Perdida'}\r\n",
    "\r\n",
    "X_train['calificacion_conalin'] = X_train['calificacion_conalin'].map(mapping_calificacion)\r\n",
    "X_train['calificacion_sinalin'] = X_train['calificacion_sinalin'].map(mapping_calificacion)\r\n",
    "\r\n",
    "X_train['ci_pv'] = np.where(np.isnan(X_train['pv']), np.nan, np.where(X_train['pv'] <= 0, np.nan,X_train['ci']/X_train['pv']))"
   ],
   "outputs": [],
   "metadata": {}
  },
  {
   "cell_type": "code",
   "execution_count": 139,
   "source": [
    "fig, axs = plt.subplots(nrows= 2, ncols=2, figsize=(20,5)) # figsize: ancho x alto\r\n",
    "plt.subplots_adjust(left=0.125, bottom=0.1, right=0.9, top=0.9, wspace=0.2, hspace=0.35)\r\n",
    "\r\n",
    "sns.countplot(data = X_train, x = 'antiguedad', ax=axs[0, 0]).set(title = \"Distribucion de la Antiguedad\", xlabel=None, ylabel= None)\r\n",
    "sns.countplot(data = X_train, x = 'calificacion_conalin', ax=axs[0, 1]).set(title = \"Calificacion Con Alineamiento\", xlabel=None, ylabel= None)\r\n",
    "sns.countplot(data = X_train, x = 'calificacion_sinalin', ax=axs[1, 0]).set(title = \"Calificacion Sin Alineamiento\", xlabel=None, ylabel= None)\r\n",
    "\r\n",
    "pass"
   ],
   "outputs": [
    {
     "output_type": "display_data",
     "data": {
      "image/png": "[encoded data removed]",
      "text/plain": [
       "<Figure size 1440x360 with 4 Axes>"
      ]
     },
     "metadata": {
      "needs_background": "light"
     }
    }
   ],
   "metadata": {}
  },
  {
   "cell_type": "code",
   "execution_count": 140,
   "source": [
    "fig, axs = plt.subplots(nrows= 2, ncols=3, figsize=(20,5)) # figsize: ancho x alto\r\n",
    "plt.subplots_adjust(left=0.125, bottom=0.1, right=0.9, top=0.9, wspace=0.2, hspace=0.35)\r\n",
    "\r\n",
    "sns.histplot(data = X_train, x = 'saldo_cap', ax=axs[0, 0]).set(title = \"Distribucion del Saldo Capital\", xlabel=None, ylabel = 'Frecuency')\r\n",
    "sns.histplot(data = X_train, x = 'saldo_int', ax=axs[0, 1]).set(title = \"Distribucion del Saldo Interes\", xlabel=None, ylabel = 'Frecuency')\r\n",
    "sns.histplot(data = X_train, x = 'saldo_mora', ax=axs[0, 2]).set(title = \"Distribucion del Saldo con Mora\", xlabel=None, ylabel = 'Frecuency')\r\n",
    "sns.histplot(data = X_train, x = 'provision', ax=axs[1, 0]).set(title = \"Distribucion de la Provision\", xlabel=None, ylabel = 'Frecuency')\r\n",
    "sns.histplot(data = X_train, x = 'cap_vig', ax=axs[1, 1]).set(title = \"Distribucion del Capital vigente\", xlabel=None, ylabel = 'Frecuency')\r\n",
    "sns.histplot(data = X_train, x = 'mora', ax=axs[1, 2]).set(title = \"Distribucion de la Mora\", xlabel=None, ylabel = 'Frecuency')\r\n",
    "# sns.histplot(data = X_train, x = 'nro_carga_gnv', ax=axs[2, 0]).set(title = \"Distribucion de la Cantidad de cargas GNV\", xlabel=None, ylabel = 'Frecuency')\r\n",
    "# sns.histplot(data = X_train, x = 'cv_carga_gnv', ax=axs[2, 1]).set(title = \"Distribucion del Coeficiente de Variacion carga GNV\", xlabel=None, ylabel = 'Frecuency')\r\n",
    "# sns.histplot(data = X_train, x = 'relacion_carga_gnv_cuota', ax=axs[2, 2]).set(title = \"Distribucion de la Relacion carga GNV cuota\", xlabel=None, ylabel = 'Frecuency')\r\n",
    "\r\n",
    "pass"
   ],
   "outputs": [
    {
     "output_type": "display_data",
     "data": {
      "image/png": "[encoded data removed]",
      "text/plain": [
       "<Figure size 1440x360 with 6 Axes>"
      ]
     },
     "metadata": {
      "needs_background": "light"
     }
    }
   ],
   "metadata": {}
  },
  {
   "cell_type": "code",
   "execution_count": 141,
   "source": [
    "## Imputacion por logica\r\n",
    "\r\n",
    "# Recencia\r\n",
    "X_train['rec_calificacion_0_1m12'] = np.where(X_train['rec_calificacion_0_1m12']>= 0, round(X_train['rec_calificacion_0_1m12']).astype('str'), 'Otros')\r\n",
    "X_train['rec_calificacion_1234_1m12'] = np.where(X_train['rec_calificacion_1234_1m12'] >= 0, round(X_train['rec_calificacion_1234_1m12']).astype('str'), 'Otros')\r\n",
    "X_train['rec_calificacion_234_1m12'] = np.where(X_train['rec_calificacion_234_1m12'] >= 0, round(X_train['rec_calificacion_234_1m12']).astype('str'), 'Otros')\r\n",
    "X_train['rec_calificacion_34_1m12'] = np.where(X_train['rec_calificacion_34_1m12'] >= 0, round(X_train['rec_calificacion_34_1m12']).astype('str'), 'Otros')\r\n",
    "X_train['rec_calificacion_4_1m12'] = np.where(X_train['rec_calificacion_4_1m12'] >= 0, round(X_train['rec_calificacion_4_1m12']).astype('str'), 'Otros')\r\n",
    "X_train['rec_mora_0_1m12'] = np.where(X_train['rec_mora_0_1m12'] >= 0, round(X_train['rec_mora_0_1m12']).astype('str'), 'Otros')\r\n",
    "X_train['rec_mora0_1m12'] = np.where(X_train['rec_mora0_1m12'] >= 0, round(X_train['rec_mora0_1m12']).astype('str'), 'Otros')\r\n",
    "X_train['rec_mora120_1m12'] = np.where(X_train['rec_mora120_1m12'] >= 0, round(X_train['rec_mora120_1m12']).astype('str'), 'Otros')\r\n",
    "X_train['rec_mora30_1m12'] = np.where(X_train['rec_mora30_1m12'] >= 0, round(X_train['rec_mora30_1m12']).astype('str'), 'Otros')\r\n",
    "X_train['rec_mora60_1m12'] = np.where(X_train['rec_mora60_1m12'] >= 0, round(X_train['rec_mora60_1m12']).astype('str'), 'Otros')\r\n",
    "X_train['rec_mora90_1m12'] = np.where(X_train['rec_mora90_1m12'] >= 0, round(X_train['rec_mora90_1m12']).astype('str'), 'Otros')\r\n",
    "X_train['rec_por_cal0_100_1m12'] = np.where(X_train['rec_por_cal0_100_1m12'] >= 0, round(X_train['rec_por_cal0_100_1m12']).astype('str'), 'Otros')\r\n",
    "X_train['rec_por_cal4_100_1m12'] = np.where(X_train['rec_por_cal4_100_1m12'] >= 0, round(X_train['rec_por_cal4_100_1m12']).astype('str'), 'Otros')\r\n",
    "\r\n",
    "## Linea y disposicion de efectivo (flag sin o con disposicion de efectivo o linea)\r\n",
    "X_train['disp_efectivo_max1m12_flg'] = np.where(np.isnan(X_train['disp_efectivo_max1m12']), 'SinEfectivo', 'ConEfectivo')\r\n",
    "X_train['disp_efectivo_1m_flg'] = np.where(np.isnan(X_train['disp_efectivo_1m']), 'SinEfectivo', 'ConEfectivo')\r\n",
    "X_train['disp_efectivo_max1m3_flg'] = np.where(np.isnan(X_train['disp_efectivo_max1m3']), 'SinEfectivo', 'ConEfectivo')\r\n",
    "X_train['disp_efectivo_max1m6_flg'] = np.where(np.isnan(X_train['disp_efectivo_max1m6']), 'SinEfectivo', 'ConEfectivo')\r\n",
    "X_train['linea_activa_1m_flg'] = np.where(np.isnan(X_train['linea_activa_1m']), 'SinLinea', 'ConLinea')\r\n",
    "X_train['linea_activa_max1m12_flg'] = np.where(np.isnan(X_train['linea_activa_max1m12']), 'SinLinea', 'ConLinea')\r\n",
    "X_train['linea_activa_max1m3_flg'] = np.where(np.isnan(X_train['linea_activa_max1m3']), 'SinLinea', 'ConLinea')\r\n",
    "X_train['linea_activa_max1m6_flg'] = np.where(np.isnan(X_train['linea_activa_max1m6']), 'SinLinea', 'ConLinea')\r\n",
    "X_train['linea_total_1m_flg'] = np.where(np.isnan(X_train['linea_total_1m']), 'SinLinea', 'ConLinea')\r\n",
    "X_train['linea_total_max1m12_flg'] = np.where(np.isnan(X_train['linea_total_max1m12']), 'SinLinea', 'ConLinea')\r\n",
    "X_train['linea_total_max1m3_flg'] = np.where(np.isnan(X_train['linea_total_max1m3']), 'SinLinea', 'ConLinea')\r\n",
    "X_train['linea_total_max1m6_flg'] = np.where(np.isnan(X_train['linea_total_max1m6']), 'SinLinea', 'ConLinea')\r\n",
    "X_train['linea_usada_1m_flg'] = np.where(np.isnan(X_train['linea_usada_1m']), 'SinLinea', 'ConLinea')\r\n",
    "X_train['linea_usada_max1m12_flg'] = np.where(np.isnan(X_train['linea_usada_max1m12']), 'SinLinea', 'ConLinea')\r\n",
    "X_train['linea_usada_max1m3_flg'] = np.where(np.isnan(X_train['linea_usada_max1m3']), 'SinLinea', 'ConLinea')\r\n",
    "X_train['linea_usada_max1m6_flg'] = np.where(np.isnan(X_train['linea_usada_max1m6']), 'SinLinea', 'ConLinea')\r\n"
   ],
   "outputs": [],
   "metadata": {}
  },
  {
   "cell_type": "code",
   "execution_count": 142,
   "source": [
    "rcc_new = [\r\n",
    "    'disp_efectivo_max1m12_flg','disp_efectivo_1m_flg','disp_efectivo_max1m3_flg','disp_efectivo_max1m6_flg','linea_activa_1m_flg','linea_activa_max1m12_flg','linea_activa_max1m3_flg','linea_activa_max1m6_flg','linea_total_1m_flg','linea_total_max1m12_flg','linea_total_max1m3_flg','linea_total_max1m6_flg','linea_usada_1m_flg','linea_usada_max1m12_flg','linea_usada_max1m3_flg','linea_usada_max1m6_flg'\r\n",
    "]\r\n",
    "rcc = np.unique( np.concatenate( (rcc, rcc_new), axis=None) )"
   ],
   "outputs": [],
   "metadata": {}
  },
  {
   "cell_type": "code",
   "execution_count": 143,
   "source": [
    "X_train.dtypes"
   ],
   "outputs": [
    {
     "output_type": "execute_result",
     "data": {
      "text/plain": [
       "edad                        int64\n",
       "educacion                  object\n",
       "estado_civil               object\n",
       "vivienda                   object\n",
       "perfil                     object\n",
       "                            ...  \n",
       "linea_total_max1m6_flg     object\n",
       "linea_usada_1m_flg         object\n",
       "linea_usada_max1m12_flg    object\n",
       "linea_usada_max1m3_flg     object\n",
       "linea_usada_max1m6_flg     object\n",
       "Length: 347, dtype: object"
      ]
     },
     "metadata": {},
     "execution_count": 143
    }
   ],
   "metadata": {}
  },
  {
   "cell_type": "markdown",
   "source": [
    "## Tratamiento de valores nulos"
   ],
   "metadata": {}
  },
  {
   "cell_type": "code",
   "execution_count": 144,
   "source": [
    "msno.matrix(X_train[demo])"
   ],
   "outputs": [
    {
     "output_type": "execute_result",
     "data": {
      "text/plain": [
       "<AxesSubplot:>"
      ]
     },
     "metadata": {},
     "execution_count": 144
    },
    {
     "output_type": "display_data",
     "data": {
      "image/png": "[encoded data removed]",
      "text/plain": [
       "<Figure size 1800x720 with 2 Axes>"
      ]
     },
     "metadata": {
      "needs_background": "light"
     }
    }
   ],
   "metadata": {}
  },
  {
   "cell_type": "code",
   "execution_count": 145,
   "source": [
    "msno.matrix(X_train[inter])"
   ],
   "outputs": [
    {
     "output_type": "execute_result",
     "data": {
      "text/plain": [
       "<AxesSubplot:>"
      ]
     },
     "metadata": {},
     "execution_count": 145
    },
    {
     "output_type": "display_data",
     "data": {
      "image/png": "[encoded data removed]",
      "text/plain": [
       "<Figure size 1800x720 with 2 Axes>"
      ]
     },
     "metadata": {
      "needs_background": "light"
     }
    }
   ],
   "metadata": {}
  },
  {
   "cell_type": "code",
   "execution_count": 146,
   "source": [
    "msno.matrix(X_train[rcc])"
   ],
   "outputs": [
    {
     "output_type": "execute_result",
     "data": {
      "text/plain": [
       "<AxesSubplot:>"
      ]
     },
     "metadata": {},
     "execution_count": 146
    },
    {
     "output_type": "display_data",
     "data": {
      "image/png": "[encoded data removed]",
      "text/plain": [
       "<Figure size 1800x720 with 2 Axes>"
      ]
     },
     "metadata": {
      "needs_background": "light"
     }
    }
   ],
   "metadata": {}
  },
  {
   "cell_type": "code",
   "execution_count": 147,
   "source": [
    "X_train.select_dtypes('number').head(2)"
   ],
   "outputs": [
    {
     "output_type": "execute_result",
     "data": {
      "text/html": [
       "<div>\n",
       "<style scoped>\n",
       "    .dataframe tbody tr th:only-of-type {\n",
       "        vertical-align: middle;\n",
       "    }\n",
       "\n",
       "    .dataframe tbody tr th {\n",
       "        vertical-align: top;\n",
       "    }\n",
       "\n",
       "    .dataframe thead th {\n",
       "        text-align: right;\n",
       "    }\n",
       "</style>\n",
       "<table border=\"1\" class=\"dataframe\">\n",
       "  <thead>\n",
       "    <tr style=\"text-align: right;\">\n",
       "      <th></th>\n",
       "      <th>edad</th>\n",
       "      <th>ingreso</th>\n",
       "      <th>maf</th>\n",
       "      <th>ci</th>\n",
       "      <th>cuota</th>\n",
       "      <th>pv</th>\n",
       "      <th>antiguedad</th>\n",
       "      <th>cuotas_pend</th>\n",
       "      <th>cuotas_canc</th>\n",
       "      <th>saldo_cap</th>\n",
       "      <th>...</th>\n",
       "      <th>frec_calificacion_34_1m12</th>\n",
       "      <th>frec_calificacion_234_1m12</th>\n",
       "      <th>frec_calificacion_1234_1m12</th>\n",
       "      <th>frec_mora_0_1m12</th>\n",
       "      <th>frec_mora0_1m12</th>\n",
       "      <th>frec_mora30_1m12</th>\n",
       "      <th>frec_mora60_1m12</th>\n",
       "      <th>frec_mora90_1m12</th>\n",
       "      <th>frec_mora120_1m12</th>\n",
       "      <th>ci_pv</th>\n",
       "    </tr>\n",
       "  </thead>\n",
       "  <tbody>\n",
       "    <tr>\n",
       "      <th>0</th>\n",
       "      <td>49</td>\n",
       "      <td>NaN</td>\n",
       "      <td>NaN</td>\n",
       "      <td>NaN</td>\n",
       "      <td>NaN</td>\n",
       "      <td>NaN</td>\n",
       "      <td>NaN</td>\n",
       "      <td>39</td>\n",
       "      <td>NaN</td>\n",
       "      <td>30000.0</td>\n",
       "      <td>...</td>\n",
       "      <td>0</td>\n",
       "      <td>0</td>\n",
       "      <td>0</td>\n",
       "      <td>12</td>\n",
       "      <td>0</td>\n",
       "      <td>0</td>\n",
       "      <td>0</td>\n",
       "      <td>0</td>\n",
       "      <td>0</td>\n",
       "      <td>NaN</td>\n",
       "    </tr>\n",
       "    <tr>\n",
       "      <th>1</th>\n",
       "      <td>36</td>\n",
       "      <td>NaN</td>\n",
       "      <td>NaN</td>\n",
       "      <td>NaN</td>\n",
       "      <td>NaN</td>\n",
       "      <td>NaN</td>\n",
       "      <td>NaN</td>\n",
       "      <td>45</td>\n",
       "      <td>NaN</td>\n",
       "      <td>30510.0</td>\n",
       "      <td>...</td>\n",
       "      <td>0</td>\n",
       "      <td>0</td>\n",
       "      <td>0</td>\n",
       "      <td>0</td>\n",
       "      <td>0</td>\n",
       "      <td>0</td>\n",
       "      <td>0</td>\n",
       "      <td>0</td>\n",
       "      <td>0</td>\n",
       "      <td>NaN</td>\n",
       "    </tr>\n",
       "  </tbody>\n",
       "</table>\n",
       "<p>2 rows × 182 columns</p>\n",
       "</div>"
      ],
      "text/plain": [
       "   edad  ingreso  maf  ci  cuota  pv  antiguedad  cuotas_pend  cuotas_canc  \\\n",
       "0    49      NaN  NaN NaN    NaN NaN         NaN           39          NaN   \n",
       "1    36      NaN  NaN NaN    NaN NaN         NaN           45          NaN   \n",
       "\n",
       "   saldo_cap  ...  frec_calificacion_34_1m12  frec_calificacion_234_1m12  \\\n",
       "0    30000.0  ...                          0                           0   \n",
       "1    30510.0  ...                          0                           0   \n",
       "\n",
       "   frec_calificacion_1234_1m12  frec_mora_0_1m12  frec_mora0_1m12  \\\n",
       "0                            0                12                0   \n",
       "1                            0                 0                0   \n",
       "\n",
       "   frec_mora30_1m12  frec_mora60_1m12  frec_mora90_1m12  frec_mora120_1m12  \\\n",
       "0                 0                 0                 0                  0   \n",
       "1                 0                 0                 0                  0   \n",
       "\n",
       "   ci_pv  \n",
       "0    NaN  \n",
       "1    NaN  \n",
       "\n",
       "[2 rows x 182 columns]"
      ]
     },
     "metadata": {},
     "execution_count": 147
    }
   ],
   "metadata": {}
  },
  {
   "cell_type": "code",
   "execution_count": 148,
   "source": [
    "X_train.select_dtypes('object').head(2)"
   ],
   "outputs": [
    {
     "output_type": "execute_result",
     "data": {
      "text/html": [
       "<div>\n",
       "<style scoped>\n",
       "    .dataframe tbody tr th:only-of-type {\n",
       "        vertical-align: middle;\n",
       "    }\n",
       "\n",
       "    .dataframe tbody tr th {\n",
       "        vertical-align: top;\n",
       "    }\n",
       "\n",
       "    .dataframe thead th {\n",
       "        text-align: right;\n",
       "    }\n",
       "</style>\n",
       "<table border=\"1\" class=\"dataframe\">\n",
       "  <thead>\n",
       "    <tr style=\"text-align: right;\">\n",
       "      <th></th>\n",
       "      <th>educacion</th>\n",
       "      <th>estado_civil</th>\n",
       "      <th>vivienda</th>\n",
       "      <th>perfil</th>\n",
       "      <th>carga_fam</th>\n",
       "      <th>marca</th>\n",
       "      <th>calificacion_conalin</th>\n",
       "      <th>calificacion_sinalin</th>\n",
       "      <th>refin</th>\n",
       "      <th>rec_por_cal0_100_1m12</th>\n",
       "      <th>...</th>\n",
       "      <th>linea_activa_max1m3_flg</th>\n",
       "      <th>linea_activa_max1m6_flg</th>\n",
       "      <th>linea_total_1m_flg</th>\n",
       "      <th>linea_total_max1m12_flg</th>\n",
       "      <th>linea_total_max1m3_flg</th>\n",
       "      <th>linea_total_max1m6_flg</th>\n",
       "      <th>linea_usada_1m_flg</th>\n",
       "      <th>linea_usada_max1m12_flg</th>\n",
       "      <th>linea_usada_max1m3_flg</th>\n",
       "      <th>linea_usada_max1m6_flg</th>\n",
       "    </tr>\n",
       "  </thead>\n",
       "  <tbody>\n",
       "    <tr>\n",
       "      <th>0</th>\n",
       "      <td>SinEst_Prim_Sec</td>\n",
       "      <td>Conviviente</td>\n",
       "      <td>ALQUILADO</td>\n",
       "      <td>1.Indep. Infor.</td>\n",
       "      <td>0.0</td>\n",
       "      <td>NaN</td>\n",
       "      <td>Normal</td>\n",
       "      <td>Normal</td>\n",
       "      <td>False</td>\n",
       "      <td>1.0</td>\n",
       "      <td>...</td>\n",
       "      <td>ConLinea</td>\n",
       "      <td>ConLinea</td>\n",
       "      <td>ConLinea</td>\n",
       "      <td>ConLinea</td>\n",
       "      <td>ConLinea</td>\n",
       "      <td>ConLinea</td>\n",
       "      <td>ConLinea</td>\n",
       "      <td>ConLinea</td>\n",
       "      <td>ConLinea</td>\n",
       "      <td>ConLinea</td>\n",
       "    </tr>\n",
       "    <tr>\n",
       "      <th>1</th>\n",
       "      <td>SinEst_Prim_Sec</td>\n",
       "      <td>Casado</td>\n",
       "      <td>FAMILIAR</td>\n",
       "      <td>2.Indep. Formal</td>\n",
       "      <td>+3</td>\n",
       "      <td>NaN</td>\n",
       "      <td>Normal</td>\n",
       "      <td>Normal</td>\n",
       "      <td>False</td>\n",
       "      <td>Otros</td>\n",
       "      <td>...</td>\n",
       "      <td>SinLinea</td>\n",
       "      <td>SinLinea</td>\n",
       "      <td>SinLinea</td>\n",
       "      <td>SinLinea</td>\n",
       "      <td>SinLinea</td>\n",
       "      <td>SinLinea</td>\n",
       "      <td>SinLinea</td>\n",
       "      <td>SinLinea</td>\n",
       "      <td>SinLinea</td>\n",
       "      <td>SinLinea</td>\n",
       "    </tr>\n",
       "  </tbody>\n",
       "</table>\n",
       "<p>2 rows × 164 columns</p>\n",
       "</div>"
      ],
      "text/plain": [
       "         educacion estado_civil   vivienda           perfil carga_fam marca  \\\n",
       "0  SinEst_Prim_Sec  Conviviente  ALQUILADO  1.Indep. Infor.       0.0   NaN   \n",
       "1  SinEst_Prim_Sec       Casado   FAMILIAR  2.Indep. Formal        +3   NaN   \n",
       "\n",
       "  calificacion_conalin calificacion_sinalin  refin rec_por_cal0_100_1m12  ...  \\\n",
       "0               Normal               Normal  False                   1.0  ...   \n",
       "1               Normal               Normal  False                 Otros  ...   \n",
       "\n",
       "  linea_activa_max1m3_flg linea_activa_max1m6_flg linea_total_1m_flg  \\\n",
       "0                ConLinea                ConLinea           ConLinea   \n",
       "1                SinLinea                SinLinea           SinLinea   \n",
       "\n",
       "  linea_total_max1m12_flg linea_total_max1m3_flg linea_total_max1m6_flg  \\\n",
       "0                ConLinea               ConLinea               ConLinea   \n",
       "1                SinLinea               SinLinea               SinLinea   \n",
       "\n",
       "  linea_usada_1m_flg linea_usada_max1m12_flg linea_usada_max1m3_flg  \\\n",
       "0           ConLinea                ConLinea               ConLinea   \n",
       "1           SinLinea                SinLinea               SinLinea   \n",
       "\n",
       "  linea_usada_max1m6_flg  \n",
       "0               ConLinea  \n",
       "1               SinLinea  \n",
       "\n",
       "[2 rows x 164 columns]"
      ]
     },
     "metadata": {},
     "execution_count": 148
    }
   ],
   "metadata": {}
  },
  {
   "cell_type": "code",
   "execution_count": 149,
   "source": [
    "X_train_num = X_train.select_dtypes('number')\r\n",
    "X_train_cat = X_train.select_dtypes('object')"
   ],
   "outputs": [],
   "metadata": {}
  },
  {
   "cell_type": "code",
   "execution_count": 150,
   "source": [
    "X_train_num.shape, X_train_cat.shape"
   ],
   "outputs": [
    {
     "output_type": "execute_result",
     "data": {
      "text/plain": [
       "((3119, 182), (3119, 164))"
      ]
     },
     "metadata": {},
     "execution_count": 150
    }
   ],
   "metadata": {}
  },
  {
   "cell_type": "code",
   "execution_count": 151,
   "source": [
    "X_train_num.head(2)"
   ],
   "outputs": [
    {
     "output_type": "execute_result",
     "data": {
      "text/html": [
       "<div>\n",
       "<style scoped>\n",
       "    .dataframe tbody tr th:only-of-type {\n",
       "        vertical-align: middle;\n",
       "    }\n",
       "\n",
       "    .dataframe tbody tr th {\n",
       "        vertical-align: top;\n",
       "    }\n",
       "\n",
       "    .dataframe thead th {\n",
       "        text-align: right;\n",
       "    }\n",
       "</style>\n",
       "<table border=\"1\" class=\"dataframe\">\n",
       "  <thead>\n",
       "    <tr style=\"text-align: right;\">\n",
       "      <th></th>\n",
       "      <th>edad</th>\n",
       "      <th>ingreso</th>\n",
       "      <th>maf</th>\n",
       "      <th>ci</th>\n",
       "      <th>cuota</th>\n",
       "      <th>pv</th>\n",
       "      <th>antiguedad</th>\n",
       "      <th>cuotas_pend</th>\n",
       "      <th>cuotas_canc</th>\n",
       "      <th>saldo_cap</th>\n",
       "      <th>...</th>\n",
       "      <th>frec_calificacion_34_1m12</th>\n",
       "      <th>frec_calificacion_234_1m12</th>\n",
       "      <th>frec_calificacion_1234_1m12</th>\n",
       "      <th>frec_mora_0_1m12</th>\n",
       "      <th>frec_mora0_1m12</th>\n",
       "      <th>frec_mora30_1m12</th>\n",
       "      <th>frec_mora60_1m12</th>\n",
       "      <th>frec_mora90_1m12</th>\n",
       "      <th>frec_mora120_1m12</th>\n",
       "      <th>ci_pv</th>\n",
       "    </tr>\n",
       "  </thead>\n",
       "  <tbody>\n",
       "    <tr>\n",
       "      <th>0</th>\n",
       "      <td>49</td>\n",
       "      <td>NaN</td>\n",
       "      <td>NaN</td>\n",
       "      <td>NaN</td>\n",
       "      <td>NaN</td>\n",
       "      <td>NaN</td>\n",
       "      <td>NaN</td>\n",
       "      <td>39</td>\n",
       "      <td>NaN</td>\n",
       "      <td>30000.0</td>\n",
       "      <td>...</td>\n",
       "      <td>0</td>\n",
       "      <td>0</td>\n",
       "      <td>0</td>\n",
       "      <td>12</td>\n",
       "      <td>0</td>\n",
       "      <td>0</td>\n",
       "      <td>0</td>\n",
       "      <td>0</td>\n",
       "      <td>0</td>\n",
       "      <td>NaN</td>\n",
       "    </tr>\n",
       "    <tr>\n",
       "      <th>1</th>\n",
       "      <td>36</td>\n",
       "      <td>NaN</td>\n",
       "      <td>NaN</td>\n",
       "      <td>NaN</td>\n",
       "      <td>NaN</td>\n",
       "      <td>NaN</td>\n",
       "      <td>NaN</td>\n",
       "      <td>45</td>\n",
       "      <td>NaN</td>\n",
       "      <td>30510.0</td>\n",
       "      <td>...</td>\n",
       "      <td>0</td>\n",
       "      <td>0</td>\n",
       "      <td>0</td>\n",
       "      <td>0</td>\n",
       "      <td>0</td>\n",
       "      <td>0</td>\n",
       "      <td>0</td>\n",
       "      <td>0</td>\n",
       "      <td>0</td>\n",
       "      <td>NaN</td>\n",
       "    </tr>\n",
       "  </tbody>\n",
       "</table>\n",
       "<p>2 rows × 182 columns</p>\n",
       "</div>"
      ],
      "text/plain": [
       "   edad  ingreso  maf  ci  cuota  pv  antiguedad  cuotas_pend  cuotas_canc  \\\n",
       "0    49      NaN  NaN NaN    NaN NaN         NaN           39          NaN   \n",
       "1    36      NaN  NaN NaN    NaN NaN         NaN           45          NaN   \n",
       "\n",
       "   saldo_cap  ...  frec_calificacion_34_1m12  frec_calificacion_234_1m12  \\\n",
       "0    30000.0  ...                          0                           0   \n",
       "1    30510.0  ...                          0                           0   \n",
       "\n",
       "   frec_calificacion_1234_1m12  frec_mora_0_1m12  frec_mora0_1m12  \\\n",
       "0                            0                12                0   \n",
       "1                            0                 0                0   \n",
       "\n",
       "   frec_mora30_1m12  frec_mora60_1m12  frec_mora90_1m12  frec_mora120_1m12  \\\n",
       "0                 0                 0                 0                  0   \n",
       "1                 0                 0                 0                  0   \n",
       "\n",
       "   ci_pv  \n",
       "0    NaN  \n",
       "1    NaN  \n",
       "\n",
       "[2 rows x 182 columns]"
      ]
     },
     "metadata": {},
     "execution_count": 151
    }
   ],
   "metadata": {}
  },
  {
   "cell_type": "code",
   "execution_count": 152,
   "source": [
    "X_train_cat.head(2)"
   ],
   "outputs": [
    {
     "output_type": "execute_result",
     "data": {
      "text/html": [
       "<div>\n",
       "<style scoped>\n",
       "    .dataframe tbody tr th:only-of-type {\n",
       "        vertical-align: middle;\n",
       "    }\n",
       "\n",
       "    .dataframe tbody tr th {\n",
       "        vertical-align: top;\n",
       "    }\n",
       "\n",
       "    .dataframe thead th {\n",
       "        text-align: right;\n",
       "    }\n",
       "</style>\n",
       "<table border=\"1\" class=\"dataframe\">\n",
       "  <thead>\n",
       "    <tr style=\"text-align: right;\">\n",
       "      <th></th>\n",
       "      <th>educacion</th>\n",
       "      <th>estado_civil</th>\n",
       "      <th>vivienda</th>\n",
       "      <th>perfil</th>\n",
       "      <th>carga_fam</th>\n",
       "      <th>marca</th>\n",
       "      <th>calificacion_conalin</th>\n",
       "      <th>calificacion_sinalin</th>\n",
       "      <th>refin</th>\n",
       "      <th>rec_por_cal0_100_1m12</th>\n",
       "      <th>...</th>\n",
       "      <th>linea_activa_max1m3_flg</th>\n",
       "      <th>linea_activa_max1m6_flg</th>\n",
       "      <th>linea_total_1m_flg</th>\n",
       "      <th>linea_total_max1m12_flg</th>\n",
       "      <th>linea_total_max1m3_flg</th>\n",
       "      <th>linea_total_max1m6_flg</th>\n",
       "      <th>linea_usada_1m_flg</th>\n",
       "      <th>linea_usada_max1m12_flg</th>\n",
       "      <th>linea_usada_max1m3_flg</th>\n",
       "      <th>linea_usada_max1m6_flg</th>\n",
       "    </tr>\n",
       "  </thead>\n",
       "  <tbody>\n",
       "    <tr>\n",
       "      <th>0</th>\n",
       "      <td>SinEst_Prim_Sec</td>\n",
       "      <td>Conviviente</td>\n",
       "      <td>ALQUILADO</td>\n",
       "      <td>1.Indep. Infor.</td>\n",
       "      <td>0.0</td>\n",
       "      <td>NaN</td>\n",
       "      <td>Normal</td>\n",
       "      <td>Normal</td>\n",
       "      <td>False</td>\n",
       "      <td>1.0</td>\n",
       "      <td>...</td>\n",
       "      <td>ConLinea</td>\n",
       "      <td>ConLinea</td>\n",
       "      <td>ConLinea</td>\n",
       "      <td>ConLinea</td>\n",
       "      <td>ConLinea</td>\n",
       "      <td>ConLinea</td>\n",
       "      <td>ConLinea</td>\n",
       "      <td>ConLinea</td>\n",
       "      <td>ConLinea</td>\n",
       "      <td>ConLinea</td>\n",
       "    </tr>\n",
       "    <tr>\n",
       "      <th>1</th>\n",
       "      <td>SinEst_Prim_Sec</td>\n",
       "      <td>Casado</td>\n",
       "      <td>FAMILIAR</td>\n",
       "      <td>2.Indep. Formal</td>\n",
       "      <td>+3</td>\n",
       "      <td>NaN</td>\n",
       "      <td>Normal</td>\n",
       "      <td>Normal</td>\n",
       "      <td>False</td>\n",
       "      <td>Otros</td>\n",
       "      <td>...</td>\n",
       "      <td>SinLinea</td>\n",
       "      <td>SinLinea</td>\n",
       "      <td>SinLinea</td>\n",
       "      <td>SinLinea</td>\n",
       "      <td>SinLinea</td>\n",
       "      <td>SinLinea</td>\n",
       "      <td>SinLinea</td>\n",
       "      <td>SinLinea</td>\n",
       "      <td>SinLinea</td>\n",
       "      <td>SinLinea</td>\n",
       "    </tr>\n",
       "  </tbody>\n",
       "</table>\n",
       "<p>2 rows × 164 columns</p>\n",
       "</div>"
      ],
      "text/plain": [
       "         educacion estado_civil   vivienda           perfil carga_fam marca  \\\n",
       "0  SinEst_Prim_Sec  Conviviente  ALQUILADO  1.Indep. Infor.       0.0   NaN   \n",
       "1  SinEst_Prim_Sec       Casado   FAMILIAR  2.Indep. Formal        +3   NaN   \n",
       "\n",
       "  calificacion_conalin calificacion_sinalin  refin rec_por_cal0_100_1m12  ...  \\\n",
       "0               Normal               Normal  False                   1.0  ...   \n",
       "1               Normal               Normal  False                 Otros  ...   \n",
       "\n",
       "  linea_activa_max1m3_flg linea_activa_max1m6_flg linea_total_1m_flg  \\\n",
       "0                ConLinea                ConLinea           ConLinea   \n",
       "1                SinLinea                SinLinea           SinLinea   \n",
       "\n",
       "  linea_total_max1m12_flg linea_total_max1m3_flg linea_total_max1m6_flg  \\\n",
       "0                ConLinea               ConLinea               ConLinea   \n",
       "1                SinLinea               SinLinea               SinLinea   \n",
       "\n",
       "  linea_usada_1m_flg linea_usada_max1m12_flg linea_usada_max1m3_flg  \\\n",
       "0           ConLinea                ConLinea               ConLinea   \n",
       "1           SinLinea                SinLinea               SinLinea   \n",
       "\n",
       "  linea_usada_max1m6_flg  \n",
       "0               ConLinea  \n",
       "1               SinLinea  \n",
       "\n",
       "[2 rows x 164 columns]"
      ]
     },
     "metadata": {},
     "execution_count": 152
    }
   ],
   "metadata": {}
  },
  {
   "cell_type": "markdown",
   "source": [
    "### Aplicacion en Test"
   ],
   "metadata": {}
  },
  {
   "cell_type": "code",
   "execution_count": 153,
   "source": [
    "X_test = X_test.replace({'educacion': dict_dem['dict_educacion']})\r\n",
    "X_test = X_test.replace({'perfil': dict_dem['dict_perfil']})\r\n",
    "\r\n",
    "X_test['carga_fam'] = np.where( np.isnan(X_test['carga_fam']), 'Otros/ NULL/ NA', np.where( X_test['carga_fam'] >= 3, \"+3\", X_test['carga_fam'] ) )\r\n",
    "X_test['carga_fam'] = X_test.replace('Otros/ NULL/ NA',np.nan)['carga_fam']"
   ],
   "outputs": [],
   "metadata": {}
  },
  {
   "cell_type": "code",
   "execution_count": 154,
   "source": [
    "X_test['calificacion_conalin'] = X_test['calificacion_conalin'].map(mapping_calificacion)\r\n",
    "X_test['calificacion_sinalin'] = X_test['calificacion_sinalin'].map(mapping_calificacion)\r\n",
    "X_test['ci_pv'] = np.where(np.isnan(X_test['pv']), np.nan, np.where(X_test['pv'] <= 0, np.nan,X_test['ci']/X_test['pv']))"
   ],
   "outputs": [],
   "metadata": {}
  },
  {
   "cell_type": "code",
   "execution_count": 155,
   "source": [
    "## Imputacion por logica\r\n",
    "\r\n",
    "# Recencia\r\n",
    "X_test['rec_calificacion_0_1m12'] = np.where(X_test['rec_calificacion_0_1m12']>= 0, round(X_test['rec_calificacion_0_1m12']).astype('str'), 'Otros')\r\n",
    "X_test['rec_calificacion_1234_1m12'] = np.where(X_test['rec_calificacion_1234_1m12'] >= 0, round(X_test['rec_calificacion_1234_1m12']).astype('str'), 'Otros')\r\n",
    "X_test['rec_calificacion_234_1m12'] = np.where(X_test['rec_calificacion_234_1m12'] >= 0, round(X_test['rec_calificacion_234_1m12']).astype('str'), 'Otros')\r\n",
    "X_test['rec_calificacion_34_1m12'] = np.where(X_test['rec_calificacion_34_1m12'] >= 0, round(X_test['rec_calificacion_34_1m12']).astype('str'), 'Otros')\r\n",
    "X_test['rec_calificacion_4_1m12'] = np.where(X_test['rec_calificacion_4_1m12'] >= 0, round(X_test['rec_calificacion_4_1m12']).astype('str'), 'Otros')\r\n",
    "X_test['rec_mora_0_1m12'] = np.where(X_test['rec_mora_0_1m12'] >= 0, round(X_test['rec_mora_0_1m12']).astype('str'), 'Otros')\r\n",
    "X_test['rec_mora0_1m12'] = np.where(X_test['rec_mora0_1m12'] >= 0, round(X_test['rec_mora0_1m12']).astype('str'), 'Otros')\r\n",
    "X_test['rec_mora120_1m12'] = np.where(X_test['rec_mora120_1m12'] >= 0, round(X_test['rec_mora120_1m12']).astype('str'), 'Otros')\r\n",
    "X_test['rec_mora30_1m12'] = np.where(X_test['rec_mora30_1m12'] >= 0, round(X_test['rec_mora30_1m12']).astype('str'), 'Otros')\r\n",
    "X_test['rec_mora60_1m12'] = np.where(X_test['rec_mora60_1m12'] >= 0, round(X_test['rec_mora60_1m12']).astype('str'), 'Otros')\r\n",
    "X_test['rec_mora90_1m12'] = np.where(X_test['rec_mora90_1m12'] >= 0, round(X_test['rec_mora90_1m12']).astype('str'), 'Otros')\r\n",
    "X_test['rec_por_cal0_100_1m12'] = np.where(X_test['rec_por_cal0_100_1m12'] >= 0, round(X_test['rec_por_cal0_100_1m12']).astype('str'), 'Otros')\r\n",
    "X_test['rec_por_cal4_100_1m12'] = np.where(X_test['rec_por_cal4_100_1m12'] >= 0, round(X_test['rec_por_cal4_100_1m12']).astype('str'), 'Otros')\r\n",
    "\r\n",
    "## Linea y disposicion de efectivo (flag sin o con disposicion de efectivo o linea)\r\n",
    "X_test['disp_efectivo_max1m12_flg'] = np.where(np.isnan(X_test['disp_efectivo_max1m12']), 'SinEfectivo', 'ConEfectivo')\r\n",
    "X_test['disp_efectivo_1m_flg'] = np.where(np.isnan(X_test['disp_efectivo_1m']), 'SinEfectivo', 'ConEfectivo')\r\n",
    "X_test['disp_efectivo_max1m3_flg'] = np.where(np.isnan(X_test['disp_efectivo_max1m3']), 'SinEfectivo', 'ConEfectivo')\r\n",
    "X_test['disp_efectivo_max1m6_flg'] = np.where(np.isnan(X_test['disp_efectivo_max1m6']), 'SinEfectivo', 'ConEfectivo')\r\n",
    "X_test['linea_activa_1m_flg'] = np.where(np.isnan(X_test['linea_activa_1m']), 'SinLinea', 'ConLinea')\r\n",
    "X_test['linea_activa_max1m12_flg'] = np.where(np.isnan(X_test['linea_activa_max1m12']), 'SinLinea', 'ConLinea')\r\n",
    "X_test['linea_activa_max1m3_flg'] = np.where(np.isnan(X_test['linea_activa_max1m3']), 'SinLinea', 'ConLinea')\r\n",
    "X_test['linea_activa_max1m6_flg'] = np.where(np.isnan(X_test['linea_activa_max1m6']), 'SinLinea', 'ConLinea')\r\n",
    "X_test['linea_total_1m_flg'] = np.where(np.isnan(X_test['linea_total_1m']), 'SinLinea', 'ConLinea')\r\n",
    "X_test['linea_total_max1m12_flg'] = np.where(np.isnan(X_test['linea_total_max1m12']), 'SinLinea', 'ConLinea')\r\n",
    "X_test['linea_total_max1m3_flg'] = np.where(np.isnan(X_test['linea_total_max1m3']), 'SinLinea', 'ConLinea')\r\n",
    "X_test['linea_total_max1m6_flg'] = np.where(np.isnan(X_test['linea_total_max1m6']), 'SinLinea', 'ConLinea')\r\n",
    "X_test['linea_usada_1m_flg'] = np.where(np.isnan(X_test['linea_usada_1m']), 'SinLinea', 'ConLinea')\r\n",
    "X_test['linea_usada_max1m12_flg'] = np.where(np.isnan(X_test['linea_usada_max1m12']), 'SinLinea', 'ConLinea')\r\n",
    "X_test['linea_usada_max1m3_flg'] = np.where(np.isnan(X_test['linea_usada_max1m3']), 'SinLinea', 'ConLinea')\r\n",
    "X_test['linea_usada_max1m6_flg'] = np.where(np.isnan(X_test['linea_usada_max1m6']), 'SinLinea', 'ConLinea')"
   ],
   "outputs": [],
   "metadata": {}
  },
  {
   "cell_type": "code",
   "execution_count": 156,
   "source": [
    "X_test_num = X_test.select_dtypes('number')\r\n",
    "X_test_cat = X_test.select_dtypes('object')"
   ],
   "outputs": [],
   "metadata": {}
  },
  {
   "cell_type": "markdown",
   "source": [
    "### Base Final (en python, continua en R)"
   ],
   "metadata": {}
  },
  {
   "cell_type": "code",
   "execution_count": 157,
   "source": [
    "path = '../bases/train_test/'"
   ],
   "outputs": [],
   "metadata": {}
  },
  {
   "cell_type": "code",
   "execution_count": 158,
   "source": [
    "X_train_num.to_csv('path' + 'X_train_num.csv')\r\n",
    "X_train_cat.to_csv('path' + 'X_train_cat.csv')\r\n",
    "X_test_num.to_csv('path' + 'X_test_num.csv')\r\n",
    "X_test_cat.to_csv('path' + 'X_test_cat.csv')\r\n",
    "y_train.to_csv('path' + 'y_train.csv')\r\n",
    "y_test.to_csv('path' + 'y_test.csv')"
   ],
   "outputs": [],
   "metadata": {}
  },
  {
   "cell_type": "markdown",
   "source": [
    "## Continua en R"
   ],
   "metadata": {}
  },
  {
   "cell_type": "code",
   "execution_count": 63,
   "source": [
    "# Fin !!"
   ],
   "outputs": [],
   "metadata": {}
  }
 ],
 "metadata": {
  "orig_nbformat": 4,
  "language_info": {
   "name": "python",
   "version": "3.6.8",
   "mimetype": "text/x-python",
   "codemirror_mode": {
    "name": "ipython",
    "version": 3
   },
   "pygments_lexer": "ipython3",
   "nbconvert_exporter": "python",
   "file_extension": ".py"
  },
  "kernelspec": {
   "name": "python3",
   "display_name": "Python 3.6.8 64-bit"
  },
  "interpreter": {
   "hash": "df5ff6ac5a7c381d4a0e5cb76de2299609dc44e0f966576819c4c59be4a84c35"
  }
 },
 "nbformat": 4,
 "nbformat_minor": 2
}